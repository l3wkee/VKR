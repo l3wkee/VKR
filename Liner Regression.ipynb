{
 "cells": [
  {
   "cell_type": "markdown",
   "id": "33991824",
   "metadata": {},
   "source": [
    "# Линейнайя регрессия"
   ]
  },
  {
   "cell_type": "markdown",
   "id": "c593829e",
   "metadata": {},
   "source": [
    "поскольку линейной регресиии все равно(может применяться на любые данные) возьмем df после 3 сигм"
   ]
  },
  {
   "cell_type": "code",
   "execution_count": 1,
   "id": "da226f43",
   "metadata": {},
   "outputs": [],
   "source": [
    "import pandas as pd\n",
    "import matplotlib.pyplot as plt\n",
    "import numpy as np"
   ]
  },
  {
   "cell_type": "code",
   "execution_count": 19,
   "id": "e238f4c2",
   "metadata": {},
   "outputs": [
    {
     "data": {
      "text/html": [
       "<div>\n",
       "<style scoped>\n",
       "    .dataframe tbody tr th:only-of-type {\n",
       "        vertical-align: middle;\n",
       "    }\n",
       "\n",
       "    .dataframe tbody tr th {\n",
       "        vertical-align: top;\n",
       "    }\n",
       "\n",
       "    .dataframe thead th {\n",
       "        text-align: right;\n",
       "    }\n",
       "</style>\n",
       "<table border=\"1\" class=\"dataframe\">\n",
       "  <thead>\n",
       "    <tr style=\"text-align: right;\">\n",
       "      <th></th>\n",
       "      <th>Соотношение матрица-наполнитель</th>\n",
       "      <th>Плотность, кг/м3</th>\n",
       "      <th>модуль упругости, ГПа</th>\n",
       "      <th>Количество отвердителя, м.%</th>\n",
       "      <th>Содержание эпоксидных групп,%_2</th>\n",
       "      <th>Температура вспышки, С_2</th>\n",
       "      <th>Поверхностная плотность, г/м2</th>\n",
       "      <th>Модуль упругости при растяжении, ГПа</th>\n",
       "      <th>Прочность при растяжении, МПа</th>\n",
       "      <th>Потребление смолы, г/м2</th>\n",
       "      <th>Угол нашивки, град</th>\n",
       "      <th>Шаг нашивки</th>\n",
       "      <th>Плотность нашивки</th>\n",
       "    </tr>\n",
       "  </thead>\n",
       "  <tbody>\n",
       "    <tr>\n",
       "      <th>0</th>\n",
       "      <td>1.857143</td>\n",
       "      <td>2030.0</td>\n",
       "      <td>-0.003593</td>\n",
       "      <td>50.00</td>\n",
       "      <td>23.750000</td>\n",
       "      <td>284.615385</td>\n",
       "      <td>210.0</td>\n",
       "      <td>70.0</td>\n",
       "      <td>3000.0</td>\n",
       "      <td>220.0</td>\n",
       "      <td>0.0</td>\n",
       "      <td>4.0</td>\n",
       "      <td>60.0</td>\n",
       "    </tr>\n",
       "    <tr>\n",
       "      <th>1</th>\n",
       "      <td>1.857143</td>\n",
       "      <td>2030.0</td>\n",
       "      <td>-0.003593</td>\n",
       "      <td>129.00</td>\n",
       "      <td>21.250000</td>\n",
       "      <td>300.000000</td>\n",
       "      <td>210.0</td>\n",
       "      <td>70.0</td>\n",
       "      <td>3000.0</td>\n",
       "      <td>220.0</td>\n",
       "      <td>0.0</td>\n",
       "      <td>5.0</td>\n",
       "      <td>47.0</td>\n",
       "    </tr>\n",
       "    <tr>\n",
       "      <th>2</th>\n",
       "      <td>2.771331</td>\n",
       "      <td>2030.0</td>\n",
       "      <td>0.039599</td>\n",
       "      <td>111.86</td>\n",
       "      <td>22.267857</td>\n",
       "      <td>284.615385</td>\n",
       "      <td>210.0</td>\n",
       "      <td>70.0</td>\n",
       "      <td>3000.0</td>\n",
       "      <td>220.0</td>\n",
       "      <td>0.0</td>\n",
       "      <td>5.0</td>\n",
       "      <td>57.0</td>\n",
       "    </tr>\n",
       "    <tr>\n",
       "      <th>3</th>\n",
       "      <td>2.767918</td>\n",
       "      <td>2000.0</td>\n",
       "      <td>0.024458</td>\n",
       "      <td>111.86</td>\n",
       "      <td>22.267857</td>\n",
       "      <td>284.615385</td>\n",
       "      <td>210.0</td>\n",
       "      <td>70.0</td>\n",
       "      <td>3000.0</td>\n",
       "      <td>220.0</td>\n",
       "      <td>0.0</td>\n",
       "      <td>5.0</td>\n",
       "      <td>60.0</td>\n",
       "    </tr>\n",
       "    <tr>\n",
       "      <th>4</th>\n",
       "      <td>2.569620</td>\n",
       "      <td>1910.0</td>\n",
       "      <td>0.203120</td>\n",
       "      <td>111.86</td>\n",
       "      <td>22.267857</td>\n",
       "      <td>284.615385</td>\n",
       "      <td>210.0</td>\n",
       "      <td>70.0</td>\n",
       "      <td>3000.0</td>\n",
       "      <td>220.0</td>\n",
       "      <td>0.0</td>\n",
       "      <td>5.0</td>\n",
       "      <td>70.0</td>\n",
       "    </tr>\n",
       "  </tbody>\n",
       "</table>\n",
       "</div>"
      ],
      "text/plain": [
       "   Соотношение матрица-наполнитель  Плотность, кг/м3  модуль упругости, ГПа  \\\n",
       "0                         1.857143            2030.0              -0.003593   \n",
       "1                         1.857143            2030.0              -0.003593   \n",
       "2                         2.771331            2030.0               0.039599   \n",
       "3                         2.767918            2000.0               0.024458   \n",
       "4                         2.569620            1910.0               0.203120   \n",
       "\n",
       "   Количество отвердителя, м.%  Содержание эпоксидных групп,%_2  \\\n",
       "0                        50.00                        23.750000   \n",
       "1                       129.00                        21.250000   \n",
       "2                       111.86                        22.267857   \n",
       "3                       111.86                        22.267857   \n",
       "4                       111.86                        22.267857   \n",
       "\n",
       "   Температура вспышки, С_2  Поверхностная плотность, г/м2  \\\n",
       "0                284.615385                          210.0   \n",
       "1                300.000000                          210.0   \n",
       "2                284.615385                          210.0   \n",
       "3                284.615385                          210.0   \n",
       "4                284.615385                          210.0   \n",
       "\n",
       "   Модуль упругости при растяжении, ГПа  Прочность при растяжении, МПа  \\\n",
       "0                                  70.0                         3000.0   \n",
       "1                                  70.0                         3000.0   \n",
       "2                                  70.0                         3000.0   \n",
       "3                                  70.0                         3000.0   \n",
       "4                                  70.0                         3000.0   \n",
       "\n",
       "   Потребление смолы, г/м2  Угол нашивки, град  Шаг нашивки  Плотность нашивки  \n",
       "0                    220.0                 0.0          4.0               60.0  \n",
       "1                    220.0                 0.0          5.0               47.0  \n",
       "2                    220.0                 0.0          5.0               57.0  \n",
       "3                    220.0                 0.0          5.0               60.0  \n",
       "4                    220.0                 0.0          5.0               70.0  "
      ]
     },
     "execution_count": 19,
     "metadata": {},
     "output_type": "execute_result"
    }
   ],
   "source": [
    "df = pd.read_csv(\"data/after_3s.csv\")\n",
    "df.drop(columns =['Unnamed: 0'], axis = 1, inplace = True)\n",
    "df.head()"
   ]
  },
  {
   "cell_type": "markdown",
   "id": "9fae4d77",
   "metadata": {},
   "source": [
    "## 1 к 1"
   ]
  },
  {
   "cell_type": "code",
   "execution_count": 20,
   "id": "b45766cf",
   "metadata": {},
   "outputs": [
    {
     "data": {
      "image/png": "[encoded data removed]",
      "text/plain": [
       "<Figure size 432x288 with 1 Axes>"
      ]
     },
     "metadata": {
      "needs_background": "light"
     },
     "output_type": "display_data"
    }
   ],
   "source": [
    "df.plot(x='Содержание эпоксидных групп,%_2', y='Соотношение матрица-наполнитель', style='o')\n",
    "plt.title('эпоксид vs матрица-наполнитель')\n",
    "plt.xlabel('Содержание эпоксидных групп,%_2')\n",
    "plt.ylabel('Соотношение матрица-наполнитель')\n",
    "plt.show()"
   ]
  },
  {
   "cell_type": "code",
   "execution_count": 21,
   "id": "e34f26e9",
   "metadata": {},
   "outputs": [],
   "source": [
    "X = df['Соотношение матрица-наполнитель'].values.reshape(-1,1)\n"
   ]
  },
  {
   "cell_type": "code",
   "execution_count": 22,
   "id": "55743efa",
   "metadata": {},
   "outputs": [],
   "source": [
    "y = df['Содержание эпоксидных групп,%_2'].values.reshape(-1,1)"
   ]
  },
  {
   "cell_type": "code",
   "execution_count": 23,
   "id": "7015176c",
   "metadata": {},
   "outputs": [],
   "source": [
    "from sklearn.model_selection import train_test_split\n",
    "X_train, X_test, y_train, y_test = train_test_split(X, y, test_size=0.3, random_state=0)"
   ]
  },
  {
   "cell_type": "code",
   "execution_count": 24,
   "id": "59b64364",
   "metadata": {},
   "outputs": [
    {
     "data": {
      "text/html": [
       "<style>#sk-container-id-1 {color: black;background-color: white;}#sk-container-id-1 pre{padding: 0;}#sk-container-id-1 div.sk-toggleable {background-color: white;}#sk-container-id-1 label.sk-toggleable__label {cursor: pointer;display: block;width: 100%;margin-bottom: 0;padding: 0.3em;box-sizing: border-box;text-align: center;}#sk-container-id-1 label.sk-toggleable__label-arrow:before {content: \"▸\";float: left;margin-right: 0.25em;color: #696969;}#sk-container-id-1 label.sk-toggleable__label-arrow:hover:before {color: black;}#sk-container-id-1 div.sk-estimator:hover label.sk-toggleable__label-arrow:before {color: black;}#sk-container-id-1 div.sk-toggleable__content {max-height: 0;max-width: 0;overflow: hidden;text-align: left;background-color: #f0f8ff;}#sk-container-id-1 div.sk-toggleable__content pre {margin: 0.2em;color: black;border-radius: 0.25em;background-color: #f0f8ff;}#sk-container-id-1 input.sk-toggleable__control:checked~div.sk-toggleable__content {max-height: 200px;max-width: 100%;overflow: auto;}#sk-container-id-1 input.sk-toggleable__control:checked~label.sk-toggleable__label-arrow:before {content: \"▾\";}#sk-container-id-1 div.sk-estimator input.sk-toggleable__control:checked~label.sk-toggleable__label {background-color: #d4ebff;}#sk-container-id-1 div.sk-label input.sk-toggleable__control:checked~label.sk-toggleable__label {background-color: #d4ebff;}#sk-container-id-1 input.sk-hidden--visually {border: 0;clip: rect(1px 1px 1px 1px);clip: rect(1px, 1px, 1px, 1px);height: 1px;margin: -1px;overflow: hidden;padding: 0;position: absolute;width: 1px;}#sk-container-id-1 div.sk-estimator {font-family: monospace;background-color: #f0f8ff;border: 1px dotted black;border-radius: 0.25em;box-sizing: border-box;margin-bottom: 0.5em;}#sk-container-id-1 div.sk-estimator:hover {background-color: #d4ebff;}#sk-container-id-1 div.sk-parallel-item::after {content: \"\";width: 100%;border-bottom: 1px solid gray;flex-grow: 1;}#sk-container-id-1 div.sk-label:hover label.sk-toggleable__label {background-color: #d4ebff;}#sk-container-id-1 div.sk-serial::before {content: \"\";position: absolute;border-left: 1px solid gray;box-sizing: border-box;top: 0;bottom: 0;left: 50%;z-index: 0;}#sk-container-id-1 div.sk-serial {display: flex;flex-direction: column;align-items: center;background-color: white;padding-right: 0.2em;padding-left: 0.2em;position: relative;}#sk-container-id-1 div.sk-item {position: relative;z-index: 1;}#sk-container-id-1 div.sk-parallel {display: flex;align-items: stretch;justify-content: center;background-color: white;position: relative;}#sk-container-id-1 div.sk-item::before, #sk-container-id-1 div.sk-parallel-item::before {content: \"\";position: absolute;border-left: 1px solid gray;box-sizing: border-box;top: 0;bottom: 0;left: 50%;z-index: -1;}#sk-container-id-1 div.sk-parallel-item {display: flex;flex-direction: column;z-index: 1;position: relative;background-color: white;}#sk-container-id-1 div.sk-parallel-item:first-child::after {align-self: flex-end;width: 50%;}#sk-container-id-1 div.sk-parallel-item:last-child::after {align-self: flex-start;width: 50%;}#sk-container-id-1 div.sk-parallel-item:only-child::after {width: 0;}#sk-container-id-1 div.sk-dashed-wrapped {border: 1px dashed gray;margin: 0 0.4em 0.5em 0.4em;box-sizing: border-box;padding-bottom: 0.4em;background-color: white;}#sk-container-id-1 div.sk-label label {font-family: monospace;font-weight: bold;display: inline-block;line-height: 1.2em;}#sk-container-id-1 div.sk-label-container {text-align: center;}#sk-container-id-1 div.sk-container {/* jupyter's `normalize.less` sets `[hidden] { display: none; }` but bootstrap.min.css set `[hidden] { display: none !important; }` so we also need the `!important` here to be able to override the default hidden behavior on the sphinx rendered scikit-learn.org. See: https://github.com/scikit-learn/scikit-learn/issues/21755 */display: inline-block !important;position: relative;}#sk-container-id-1 div.sk-text-repr-fallback {display: none;}</style><div id=\"sk-container-id-1\" class=\"sk-top-container\"><div class=\"sk-text-repr-fallback\"><pre>LinearRegression()</pre><b>In a Jupyter environment, please rerun this cell to show the HTML representation or trust the notebook. <br />On GitHub, the HTML representation is unable to render, please try loading this page with nbviewer.org.</b></div><div class=\"sk-container\" hidden><div class=\"sk-item\"><div class=\"sk-estimator sk-toggleable\"><input class=\"sk-toggleable__control sk-hidden--visually\" id=\"sk-estimator-id-1\" type=\"checkbox\" checked><label for=\"sk-estimator-id-1\" class=\"sk-toggleable__label sk-toggleable__label-arrow\">LinearRegression</label><div class=\"sk-toggleable__content\"><pre>LinearRegression()</pre></div></div></div></div></div>"
      ],
      "text/plain": [
       "LinearRegression()"
      ]
     },
     "execution_count": 24,
     "metadata": {},
     "output_type": "execute_result"
    }
   ],
   "source": [
    "from sklearn.linear_model import LinearRegression\n",
    "regressor = LinearRegression()  \n",
    "regressor.fit(X_train, y_train)"
   ]
  },
  {
   "cell_type": "code",
   "execution_count": 25,
   "id": "b74b8ac0",
   "metadata": {},
   "outputs": [
    {
     "name": "stdout",
     "output_type": "stream",
     "text": [
      "RMSE: 2.397352992319681\n"
     ]
    },
    {
     "name": "stderr",
     "output_type": "stream",
     "text": [
      "A:\\conda\\lib\\site-packages\\sklearn\\utils\\validation.py:1107: DataConversionWarning: A column-vector y was passed when a 1d array was expected. Please change the shape of y to (n_samples, ), for example using ravel().\n",
      "  y = column_or_1d(y, warn=True)\n"
     ]
    }
   ],
   "source": [
    "linear_regression_model.fit(X, y)\n",
    "predictions = linear_regression_model.predict(X)\n",
    "mse = mean_squared_error(y, predictions) \n",
    "print(\"RMSE: {}\".format(np.sqrt(mse)))"
   ]
  },
  {
   "cell_type": "code",
   "execution_count": 26,
   "id": "3d2925d0",
   "metadata": {},
   "outputs": [],
   "source": [
    "#predicting the test set result\n",
    "y_pred = regressor.predict(X_test)"
   ]
  },
  {
   "cell_type": "code",
   "execution_count": 27,
   "id": "7635580e",
   "metadata": {},
   "outputs": [
    {
     "data": {
      "text/html": [
       "<div>\n",
       "<style scoped>\n",
       "    .dataframe tbody tr th:only-of-type {\n",
       "        vertical-align: middle;\n",
       "    }\n",
       "\n",
       "    .dataframe tbody tr th {\n",
       "        vertical-align: top;\n",
       "    }\n",
       "\n",
       "    .dataframe thead th {\n",
       "        text-align: right;\n",
       "    }\n",
       "</style>\n",
       "<table border=\"1\" class=\"dataframe\">\n",
       "  <thead>\n",
       "    <tr style=\"text-align: right;\">\n",
       "      <th></th>\n",
       "      <th>Actual</th>\n",
       "      <th>Predicted</th>\n",
       "    </tr>\n",
       "  </thead>\n",
       "  <tbody>\n",
       "    <tr>\n",
       "      <th>0</th>\n",
       "      <td>19.893232</td>\n",
       "      <td>22.229822</td>\n",
       "    </tr>\n",
       "    <tr>\n",
       "      <th>1</th>\n",
       "      <td>24.167632</td>\n",
       "      <td>22.209052</td>\n",
       "    </tr>\n",
       "    <tr>\n",
       "      <th>2</th>\n",
       "      <td>24.189351</td>\n",
       "      <td>22.255585</td>\n",
       "    </tr>\n",
       "    <tr>\n",
       "      <th>3</th>\n",
       "      <td>22.230744</td>\n",
       "      <td>22.221237</td>\n",
       "    </tr>\n",
       "    <tr>\n",
       "      <th>4</th>\n",
       "      <td>18.686048</td>\n",
       "      <td>22.211937</td>\n",
       "    </tr>\n",
       "  </tbody>\n",
       "</table>\n",
       "</div>"
      ],
      "text/plain": [
       "      Actual  Predicted\n",
       "0  19.893232  22.229822\n",
       "1  24.167632  22.209052\n",
       "2  24.189351  22.255585\n",
       "3  22.230744  22.221237\n",
       "4  18.686048  22.211937"
      ]
     },
     "execution_count": 27,
     "metadata": {},
     "output_type": "execute_result"
    }
   ],
   "source": [
    "#compare actual output values with predicted values\n",
    "df = pd.DataFrame({'Actual': y_test.flatten(), 'Predicted': y_pred.flatten()})\n",
    "df.head()"
   ]
  },
  {
   "cell_type": "code",
   "execution_count": 42,
   "id": "83a9d775",
   "metadata": {},
   "outputs": [
    {
     "data": {
      "image/png": "[encoded data removed]",
      "text/plain": [
       "<Figure size 1152x720 with 1 Axes>"
      ]
     },
     "metadata": {
      "needs_background": "light"
     },
     "output_type": "display_data"
    }
   ],
   "source": [
    "# visualize comparison result as a bar graph\n",
    "df1 = df.head(20)\n",
    "df1.plot(kind='bar',figsize=(16,10))\n",
    "plt.grid(which='major', linestyle='-', linewidth='0.5', color='green')\n",
    "plt.grid(which='minor', linestyle=':', linewidth='0.5', color='black')\n",
    "plt.show()"
   ]
  },
  {
   "cell_type": "markdown",
   "id": "d72e14ca",
   "metadata": {},
   "source": [
    "## Отрисовка датасета?- нужно только X и y"
   ]
  },
  {
   "cell_type": "code",
   "execution_count": 28,
   "id": "38f4c55e",
   "metadata": {},
   "outputs": [
    {
     "data": {
      "image/png": "[encoded data removed]",
      "text/plain": [
       "<Figure size 432x288 with 1 Axes>"
      ]
     },
     "metadata": {
      "needs_background": "light"
     },
     "output_type": "display_data"
    }
   ],
   "source": [
    "#prediction vs test set\n",
    "plt.scatter(X_test, y_test,  color='blue')\n",
    "plt.plot(X_test, y_pred, color='red', linewidth=2)\n",
    "plt.show()"
   ]
  },
  {
   "cell_type": "markdown",
   "id": "54c4982c",
   "metadata": {},
   "source": [
    "Средняя абсолютная ошибка (MAE)"
   ]
  },
  {
   "cell_type": "markdown",
   "id": "28e5b99a",
   "metadata": {},
   "source": [
    "Среднеквадратичная ошибка (MSE)\n"
   ]
  },
  {
   "cell_type": "markdown",
   "id": "3a090bff",
   "metadata": {},
   "source": [
    "Среднеквадратичная ошибка (RMSE)"
   ]
  },
  {
   "cell_type": "code",
   "execution_count": 29,
   "id": "8b9de40f",
   "metadata": {},
   "outputs": [
    {
     "name": "stdout",
     "output_type": "stream",
     "text": [
      "MAE: 2.032275085875232\n",
      "MSE: 6.109818023820604\n",
      "RMSE: 2.4718046087465337\n"
     ]
    }
   ],
   "source": [
    "# evaluate the performance of the algorithm\n",
    "from sklearn import metrics\n",
    "#(MAE):mean of the absolute value of the errors\n",
    "print('MAE:', metrics.mean_absolute_error(y_test, y_pred))\n",
    "#(MSE) is the mean of the squared errors\n",
    "print('MSE:', metrics.mean_squared_error(y_test, y_pred))\n",
    "#(RMSE): square root of the mean of the squared errors\n",
    "print('RMSE:', np.sqrt(metrics.mean_squared_error(y_test, y_pred)))"
   ]
  },
  {
   "cell_type": "markdown",
   "id": "adc88f0f",
   "metadata": {},
   "source": [
    "сравнивая значение среднеквадратичной ошибки и среднее значение нашей цели, мы можем увидеть, является ли наш алгоритм точным или нет."
   ]
  },
  {
   "cell_type": "markdown",
   "id": "e03b3a05",
   "metadata": {},
   "source": [
    "## ЧТО значит среднее ЗНАЧЕНИЕ ЦЕЛИ?"
   ]
  },
  {
   "cell_type": "markdown",
   "id": "977beec9",
   "metadata": {},
   "source": [
    "---"
   ]
  },
  {
   "cell_type": "markdown",
   "id": "2fe54040",
   "metadata": {},
   "source": [
    "---"
   ]
  },
  {
   "cell_type": "markdown",
   "id": "8e7bb193",
   "metadata": {},
   "source": [
    "---"
   ]
  },
  {
   "cell_type": "markdown",
   "id": "e23091e3",
   "metadata": {},
   "source": [
    "---"
   ]
  },
  {
   "cell_type": "markdown",
   "id": "05ce5d81",
   "metadata": {},
   "source": [
    "# После дропа "
   ]
  },
  {
   "cell_type": "code",
   "execution_count": 40,
   "id": "8524faca",
   "metadata": {},
   "outputs": [
    {
     "data": {
      "text/html": [
       "<div>\n",
       "<style scoped>\n",
       "    .dataframe tbody tr th:only-of-type {\n",
       "        vertical-align: middle;\n",
       "    }\n",
       "\n",
       "    .dataframe tbody tr th {\n",
       "        vertical-align: top;\n",
       "    }\n",
       "\n",
       "    .dataframe thead th {\n",
       "        text-align: right;\n",
       "    }\n",
       "</style>\n",
       "<table border=\"1\" class=\"dataframe\">\n",
       "  <thead>\n",
       "    <tr style=\"text-align: right;\">\n",
       "      <th></th>\n",
       "      <th>Соотношение матрица-наполнитель</th>\n",
       "      <th>Плотность, кг/м3</th>\n",
       "      <th>модуль упругости, ГПа</th>\n",
       "      <th>Количество отвердителя, м.%</th>\n",
       "      <th>Содержание эпоксидных групп,%_2</th>\n",
       "      <th>Температура вспышки, С_2</th>\n",
       "      <th>Поверхностная плотность, г/м2</th>\n",
       "      <th>Модуль упругости при растяжении, ГПа</th>\n",
       "      <th>Прочность при растяжении, МПа</th>\n",
       "      <th>Потребление смолы, г/м2</th>\n",
       "      <th>Угол нашивки, град</th>\n",
       "      <th>Шаг нашивки</th>\n",
       "      <th>Плотность нашивки</th>\n",
       "    </tr>\n",
       "  </thead>\n",
       "  <tbody>\n",
       "    <tr>\n",
       "      <th>0</th>\n",
       "      <td>2.667697</td>\n",
       "      <td>2078.894676</td>\n",
       "      <td>1542.168458</td>\n",
       "      <td>132.147403</td>\n",
       "      <td>22.650109</td>\n",
       "      <td>357.972896</td>\n",
       "      <td>787.299217</td>\n",
       "      <td>76.471788</td>\n",
       "      <td>2559.643047</td>\n",
       "      <td>163.902778</td>\n",
       "      <td>90.0</td>\n",
       "      <td>10.000000</td>\n",
       "      <td>70.000000</td>\n",
       "    </tr>\n",
       "    <tr>\n",
       "      <th>1</th>\n",
       "      <td>3.034399</td>\n",
       "      <td>1968.401388</td>\n",
       "      <td>455.871019</td>\n",
       "      <td>61.421297</td>\n",
       "      <td>23.490723</td>\n",
       "      <td>316.414572</td>\n",
       "      <td>637.376893</td>\n",
       "      <td>75.090372</td>\n",
       "      <td>2848.490078</td>\n",
       "      <td>311.052398</td>\n",
       "      <td>0.0</td>\n",
       "      <td>7.856167</td>\n",
       "      <td>64.301964</td>\n",
       "    </tr>\n",
       "    <tr>\n",
       "      <th>2</th>\n",
       "      <td>2.664389</td>\n",
       "      <td>1996.159145</td>\n",
       "      <td>525.057774</td>\n",
       "      <td>77.506883</td>\n",
       "      <td>18.126107</td>\n",
       "      <td>223.408685</td>\n",
       "      <td>28.658102</td>\n",
       "      <td>69.489773</td>\n",
       "      <td>2220.587445</td>\n",
       "      <td>314.776669</td>\n",
       "      <td>0.0</td>\n",
       "      <td>6.675780</td>\n",
       "      <td>78.623299</td>\n",
       "    </tr>\n",
       "    <tr>\n",
       "      <th>3</th>\n",
       "      <td>1.193530</td>\n",
       "      <td>1965.929227</td>\n",
       "      <td>899.603701</td>\n",
       "      <td>102.959069</td>\n",
       "      <td>19.566716</td>\n",
       "      <td>225.810223</td>\n",
       "      <td>871.088955</td>\n",
       "      <td>73.454695</td>\n",
       "      <td>2335.541792</td>\n",
       "      <td>91.047646</td>\n",
       "      <td>0.0</td>\n",
       "      <td>7.526398</td>\n",
       "      <td>38.176975</td>\n",
       "    </tr>\n",
       "    <tr>\n",
       "      <th>4</th>\n",
       "      <td>2.914333</td>\n",
       "      <td>2049.373404</td>\n",
       "      <td>382.263359</td>\n",
       "      <td>81.352047</td>\n",
       "      <td>16.391595</td>\n",
       "      <td>233.296063</td>\n",
       "      <td>561.992131</td>\n",
       "      <td>69.814615</td>\n",
       "      <td>2262.784366</td>\n",
       "      <td>303.075452</td>\n",
       "      <td>0.0</td>\n",
       "      <td>8.325699</td>\n",
       "      <td>46.045428</td>\n",
       "    </tr>\n",
       "    <tr>\n",
       "      <th>...</th>\n",
       "      <td>...</td>\n",
       "      <td>...</td>\n",
       "      <td>...</td>\n",
       "      <td>...</td>\n",
       "      <td>...</td>\n",
       "      <td>...</td>\n",
       "      <td>...</td>\n",
       "      <td>...</td>\n",
       "      <td>...</td>\n",
       "      <td>...</td>\n",
       "      <td>...</td>\n",
       "      <td>...</td>\n",
       "      <td>...</td>\n",
       "    </tr>\n",
       "    <tr>\n",
       "      <th>958</th>\n",
       "      <td>2.271346</td>\n",
       "      <td>1952.087902</td>\n",
       "      <td>912.855545</td>\n",
       "      <td>86.992183</td>\n",
       "      <td>20.123249</td>\n",
       "      <td>324.774576</td>\n",
       "      <td>209.198700</td>\n",
       "      <td>73.090961</td>\n",
       "      <td>2387.292495</td>\n",
       "      <td>125.007669</td>\n",
       "      <td>90.0</td>\n",
       "      <td>9.076380</td>\n",
       "      <td>47.019770</td>\n",
       "    </tr>\n",
       "    <tr>\n",
       "      <th>959</th>\n",
       "      <td>3.444022</td>\n",
       "      <td>2050.089171</td>\n",
       "      <td>444.732634</td>\n",
       "      <td>145.981978</td>\n",
       "      <td>19.599769</td>\n",
       "      <td>254.215401</td>\n",
       "      <td>350.660830</td>\n",
       "      <td>72.920827</td>\n",
       "      <td>2360.392784</td>\n",
       "      <td>117.730099</td>\n",
       "      <td>90.0</td>\n",
       "      <td>10.565614</td>\n",
       "      <td>53.750790</td>\n",
       "    </tr>\n",
       "    <tr>\n",
       "      <th>960</th>\n",
       "      <td>3.280604</td>\n",
       "      <td>1972.372865</td>\n",
       "      <td>416.836524</td>\n",
       "      <td>110.533477</td>\n",
       "      <td>23.957502</td>\n",
       "      <td>248.423047</td>\n",
       "      <td>740.142791</td>\n",
       "      <td>74.734344</td>\n",
       "      <td>2662.906040</td>\n",
       "      <td>236.606764</td>\n",
       "      <td>90.0</td>\n",
       "      <td>4.161154</td>\n",
       "      <td>67.629684</td>\n",
       "    </tr>\n",
       "    <tr>\n",
       "      <th>961</th>\n",
       "      <td>3.705351</td>\n",
       "      <td>2066.799773</td>\n",
       "      <td>741.475517</td>\n",
       "      <td>141.397963</td>\n",
       "      <td>19.246945</td>\n",
       "      <td>275.779840</td>\n",
       "      <td>641.468152</td>\n",
       "      <td>74.042708</td>\n",
       "      <td>2071.715856</td>\n",
       "      <td>197.126067</td>\n",
       "      <td>90.0</td>\n",
       "      <td>6.313201</td>\n",
       "      <td>58.261074</td>\n",
       "    </tr>\n",
       "    <tr>\n",
       "      <th>962</th>\n",
       "      <td>3.808020</td>\n",
       "      <td>1890.413468</td>\n",
       "      <td>417.316232</td>\n",
       "      <td>129.183416</td>\n",
       "      <td>27.474763</td>\n",
       "      <td>300.952708</td>\n",
       "      <td>758.747882</td>\n",
       "      <td>74.309704</td>\n",
       "      <td>2856.328932</td>\n",
       "      <td>194.754342</td>\n",
       "      <td>90.0</td>\n",
       "      <td>6.078902</td>\n",
       "      <td>77.434468</td>\n",
       "    </tr>\n",
       "  </tbody>\n",
       "</table>\n",
       "<p>963 rows × 13 columns</p>\n",
       "</div>"
      ],
      "text/plain": [
       "     Соотношение матрица-наполнитель  Плотность, кг/м3  модуль упругости, ГПа  \\\n",
       "0                           2.667697       2078.894676            1542.168458   \n",
       "1                           3.034399       1968.401388             455.871019   \n",
       "2                           2.664389       1996.159145             525.057774   \n",
       "3                           1.193530       1965.929227             899.603701   \n",
       "4                           2.914333       2049.373404             382.263359   \n",
       "..                               ...               ...                    ...   \n",
       "958                         2.271346       1952.087902             912.855545   \n",
       "959                         3.444022       2050.089171             444.732634   \n",
       "960                         3.280604       1972.372865             416.836524   \n",
       "961                         3.705351       2066.799773             741.475517   \n",
       "962                         3.808020       1890.413468             417.316232   \n",
       "\n",
       "     Количество отвердителя, м.%  Содержание эпоксидных групп,%_2  \\\n",
       "0                     132.147403                        22.650109   \n",
       "1                      61.421297                        23.490723   \n",
       "2                      77.506883                        18.126107   \n",
       "3                     102.959069                        19.566716   \n",
       "4                      81.352047                        16.391595   \n",
       "..                           ...                              ...   \n",
       "958                    86.992183                        20.123249   \n",
       "959                   145.981978                        19.599769   \n",
       "960                   110.533477                        23.957502   \n",
       "961                   141.397963                        19.246945   \n",
       "962                   129.183416                        27.474763   \n",
       "\n",
       "     Температура вспышки, С_2  Поверхностная плотность, г/м2  \\\n",
       "0                  357.972896                     787.299217   \n",
       "1                  316.414572                     637.376893   \n",
       "2                  223.408685                      28.658102   \n",
       "3                  225.810223                     871.088955   \n",
       "4                  233.296063                     561.992131   \n",
       "..                        ...                            ...   \n",
       "958                324.774576                     209.198700   \n",
       "959                254.215401                     350.660830   \n",
       "960                248.423047                     740.142791   \n",
       "961                275.779840                     641.468152   \n",
       "962                300.952708                     758.747882   \n",
       "\n",
       "     Модуль упругости при растяжении, ГПа  Прочность при растяжении, МПа  \\\n",
       "0                               76.471788                    2559.643047   \n",
       "1                               75.090372                    2848.490078   \n",
       "2                               69.489773                    2220.587445   \n",
       "3                               73.454695                    2335.541792   \n",
       "4                               69.814615                    2262.784366   \n",
       "..                                    ...                            ...   \n",
       "958                             73.090961                    2387.292495   \n",
       "959                             72.920827                    2360.392784   \n",
       "960                             74.734344                    2662.906040   \n",
       "961                             74.042708                    2071.715856   \n",
       "962                             74.309704                    2856.328932   \n",
       "\n",
       "     Потребление смолы, г/м2  Угол нашивки, град  Шаг нашивки  \\\n",
       "0                 163.902778                90.0    10.000000   \n",
       "1                 311.052398                 0.0     7.856167   \n",
       "2                 314.776669                 0.0     6.675780   \n",
       "3                  91.047646                 0.0     7.526398   \n",
       "4                 303.075452                 0.0     8.325699   \n",
       "..                       ...                 ...          ...   \n",
       "958               125.007669                90.0     9.076380   \n",
       "959               117.730099                90.0    10.565614   \n",
       "960               236.606764                90.0     4.161154   \n",
       "961               197.126067                90.0     6.313201   \n",
       "962               194.754342                90.0     6.078902   \n",
       "\n",
       "     Плотность нашивки  \n",
       "0            70.000000  \n",
       "1            64.301964  \n",
       "2            78.623299  \n",
       "3            38.176975  \n",
       "4            46.045428  \n",
       "..                 ...  \n",
       "958          47.019770  \n",
       "959          53.750790  \n",
       "960          67.629684  \n",
       "961          58.261074  \n",
       "962          77.434468  \n",
       "\n",
       "[963 rows x 13 columns]"
      ]
     },
     "execution_count": 40,
     "metadata": {},
     "output_type": "execute_result"
    }
   ],
   "source": [
    "df = pd.read_csv('data/after_drop+3s.csv')\n",
    "df.drop(columns =['Unnamed: 0'], axis = 1, inplace = True)\n",
    "df.head()"
   ]
  },
  {
   "cell_type": "code",
   "execution_count": 31,
   "id": "6f53ad49",
   "metadata": {},
   "outputs": [
    {
     "name": "stdout",
     "output_type": "stream",
     "text": [
      "<class 'pandas.core.frame.DataFrame'>\n",
      "RangeIndex: 963 entries, 0 to 962\n",
      "Data columns (total 13 columns):\n",
      " #   Column                                Non-Null Count  Dtype  \n",
      "---  ------                                --------------  -----  \n",
      " 0   Соотношение матрица-наполнитель       963 non-null    float64\n",
      " 1   Плотность, кг/м3                      963 non-null    float64\n",
      " 2   модуль упругости, ГПа                 963 non-null    float64\n",
      " 3   Количество отвердителя, м.%           963 non-null    float64\n",
      " 4   Содержание эпоксидных групп,%_2       963 non-null    float64\n",
      " 5   Температура вспышки, С_2              963 non-null    float64\n",
      " 6   Поверхностная плотность, г/м2         963 non-null    float64\n",
      " 7   Модуль упругости при растяжении, ГПа  963 non-null    float64\n",
      " 8   Прочность при растяжении, МПа         963 non-null    float64\n",
      " 9   Потребление смолы, г/м2               963 non-null    float64\n",
      " 10  Угол нашивки, град                    963 non-null    float64\n",
      " 11  Шаг нашивки                           963 non-null    float64\n",
      " 12  Плотность нашивки                     963 non-null    float64\n",
      "dtypes: float64(13)\n",
      "memory usage: 97.9 KB\n"
     ]
    }
   ],
   "source": [
    "df.info()"
   ]
  },
  {
   "cell_type": "code",
   "execution_count": 32,
   "id": "4dc7022f",
   "metadata": {},
   "outputs": [
    {
     "data": {
      "image/png": "[encoded data removed]",
      "text/plain": [
       "<Figure size 432x288 with 1 Axes>"
      ]
     },
     "metadata": {
      "needs_background": "light"
     },
     "output_type": "display_data"
    }
   ],
   "source": [
    "df.plot(x='Плотность, кг/м3', y='Соотношение матрица-наполнитель', style='o')\n",
    "plt.title('эпоксид vs матрица-наполнитель')\n",
    "plt.xlabel('Плотность, кг/м3')\n",
    "plt.ylabel('Соотношение матрица-наполнитель')\n",
    "plt.show()"
   ]
  },
  {
   "cell_type": "code",
   "execution_count": 33,
   "id": "4521a6f2",
   "metadata": {},
   "outputs": [],
   "source": [
    "X = df['Соотношение матрица-наполнитель'].values.reshape(-1,1)"
   ]
  },
  {
   "cell_type": "code",
   "execution_count": 34,
   "id": "b70ebe19",
   "metadata": {},
   "outputs": [],
   "source": [
    "y = df['Плотность, кг/м3'].values.reshape(-1,1)"
   ]
  },
  {
   "cell_type": "code",
   "execution_count": 35,
   "id": "9727e47b",
   "metadata": {},
   "outputs": [
    {
     "name": "stdout",
     "output_type": "stream",
     "text": [
      "[1974.60037471]\n",
      "[[0.42756622]]\n"
     ]
    }
   ],
   "source": [
    "from sklearn.model_selection import train_test_split\n",
    "X_train, X_test, y_train, y_test = train_test_split(X, y, test_size=0.2, random_state=0)\n",
    "from sklearn.linear_model import LinearRegression\n",
    "regressor = LinearRegression()  \n",
    "regressor.fit(X_train, y_train)\n",
    "print(regressor.intercept_)\n",
    "print(regressor.coef_)\n",
    "#predicting the test set result\n",
    "y_pred = regressor.predict(X_test)"
   ]
  },
  {
   "cell_type": "code",
   "execution_count": 36,
   "id": "0edc80ab",
   "metadata": {},
   "outputs": [
    {
     "data": {
      "text/html": [
       "<div>\n",
       "<style scoped>\n",
       "    .dataframe tbody tr th:only-of-type {\n",
       "        vertical-align: middle;\n",
       "    }\n",
       "\n",
       "    .dataframe tbody tr th {\n",
       "        vertical-align: top;\n",
       "    }\n",
       "\n",
       "    .dataframe thead th {\n",
       "        text-align: right;\n",
       "    }\n",
       "</style>\n",
       "<table border=\"1\" class=\"dataframe\">\n",
       "  <thead>\n",
       "    <tr style=\"text-align: right;\">\n",
       "      <th></th>\n",
       "      <th>Actual</th>\n",
       "      <th>Predicted</th>\n",
       "    </tr>\n",
       "  </thead>\n",
       "  <tbody>\n",
       "    <tr>\n",
       "      <th>0</th>\n",
       "      <td>1964.749492</td>\n",
       "      <td>1975.827424</td>\n",
       "    </tr>\n",
       "    <tr>\n",
       "      <th>1</th>\n",
       "      <td>1929.584696</td>\n",
       "      <td>1975.550999</td>\n",
       "    </tr>\n",
       "    <tr>\n",
       "      <th>2</th>\n",
       "      <td>2065.517880</td>\n",
       "      <td>1976.153267</td>\n",
       "    </tr>\n",
       "    <tr>\n",
       "      <th>3</th>\n",
       "      <td>2005.502050</td>\n",
       "      <td>1975.197885</td>\n",
       "    </tr>\n",
       "    <tr>\n",
       "      <th>4</th>\n",
       "      <td>2075.898989</td>\n",
       "      <td>1975.767124</td>\n",
       "    </tr>\n",
       "  </tbody>\n",
       "</table>\n",
       "</div>"
      ],
      "text/plain": [
       "        Actual    Predicted\n",
       "0  1964.749492  1975.827424\n",
       "1  1929.584696  1975.550999\n",
       "2  2065.517880  1976.153267\n",
       "3  2005.502050  1975.197885\n",
       "4  2075.898989  1975.767124"
      ]
     },
     "execution_count": 36,
     "metadata": {},
     "output_type": "execute_result"
    }
   ],
   "source": [
    "#compare actual output values with predicted values\n",
    "df = pd.DataFrame({'Actual': y_test.flatten(), 'Predicted': y_pred.flatten()})\n",
    "df.head()"
   ]
  },
  {
   "cell_type": "code",
   "execution_count": 37,
   "id": "642cdeab",
   "metadata": {},
   "outputs": [
    {
     "data": {
      "image/png": "[encoded data removed]",
      "text/plain": [
       "<Figure size 432x288 with 1 Axes>"
      ]
     },
     "metadata": {
      "needs_background": "light"
     },
     "output_type": "display_data"
    }
   ],
   "source": [
    "#prediction vs test set\n",
    "plt.scatter(X_test, y_test,  color='blue')\n",
    "plt.plot(X_test, y_pred, color='red', linewidth=2)\n",
    "plt.show()"
   ]
  },
  {
   "cell_type": "code",
   "execution_count": 38,
   "id": "4aa8936d",
   "metadata": {},
   "outputs": [
    {
     "name": "stdout",
     "output_type": "stream",
     "text": [
      "RMSE: 73.28772047566814\n"
     ]
    },
    {
     "name": "stderr",
     "output_type": "stream",
     "text": [
      "A:\\conda\\lib\\site-packages\\sklearn\\utils\\validation.py:1107: DataConversionWarning: A column-vector y was passed when a 1d array was expected. Please change the shape of y to (n_samples, ), for example using ravel().\n",
      "  y = column_or_1d(y, warn=True)\n"
     ]
    }
   ],
   "source": [
    "linear_regression_model.fit(X, y)\n",
    "predictions = linear_regression_model.predict(X)\n",
    "mse = mean_squared_error(y, predictions) \n",
    "print(\"RMSE: {}\".format(np.sqrt(mse)))"
   ]
  },
  {
   "cell_type": "markdown",
   "id": "afcf759a",
   "metadata": {},
   "source": [
    "___"
   ]
  },
  {
   "cell_type": "code",
   "execution_count": 41,
   "id": "b959b044",
   "metadata": {},
   "outputs": [],
   "source": [
    "# RMSE вырасла"
   ]
  },
  {
   "cell_type": "markdown",
   "id": "b72343d2",
   "metadata": {},
   "source": [
    "___"
   ]
  },
  {
   "cell_type": "markdown",
   "id": "110f66a5",
   "metadata": {},
   "source": [
    "___"
   ]
  },
  {
   "cell_type": "markdown",
   "id": "78250bfe",
   "metadata": {},
   "source": [
    "# Множественная линейная регрессия"
   ]
  },
  {
   "cell_type": "code",
   "execution_count": 6,
   "id": "c320a83c",
   "metadata": {},
   "outputs": [
    {
     "data": {
      "text/html": [
       "<div>\n",
       "<style scoped>\n",
       "    .dataframe tbody tr th:only-of-type {\n",
       "        vertical-align: middle;\n",
       "    }\n",
       "\n",
       "    .dataframe tbody tr th {\n",
       "        vertical-align: top;\n",
       "    }\n",
       "\n",
       "    .dataframe thead th {\n",
       "        text-align: right;\n",
       "    }\n",
       "</style>\n",
       "<table border=\"1\" class=\"dataframe\">\n",
       "  <thead>\n",
       "    <tr style=\"text-align: right;\">\n",
       "      <th></th>\n",
       "      <th>Соотношение матрица-наполнитель</th>\n",
       "      <th>Плотность, кг/м3</th>\n",
       "      <th>модуль упругости, ГПа</th>\n",
       "      <th>Количество отвердителя, м.%</th>\n",
       "      <th>Содержание эпоксидных групп,%_2</th>\n",
       "      <th>Температура вспышки, С_2</th>\n",
       "      <th>Поверхностная плотность, г/м2</th>\n",
       "      <th>Модуль упругости при растяжении, ГПа</th>\n",
       "      <th>Прочность при растяжении, МПа</th>\n",
       "      <th>Потребление смолы, г/м2</th>\n",
       "      <th>Угол нашивки, град</th>\n",
       "      <th>Шаг нашивки</th>\n",
       "      <th>Плотность нашивки</th>\n",
       "    </tr>\n",
       "  </thead>\n",
       "  <tbody>\n",
       "    <tr>\n",
       "      <th>0</th>\n",
       "      <td>1.857143</td>\n",
       "      <td>2030.0</td>\n",
       "      <td>-0.003593</td>\n",
       "      <td>50.00</td>\n",
       "      <td>23.750000</td>\n",
       "      <td>284.615385</td>\n",
       "      <td>210.0</td>\n",
       "      <td>70.0</td>\n",
       "      <td>3000.0</td>\n",
       "      <td>220.0</td>\n",
       "      <td>0.0</td>\n",
       "      <td>4.0</td>\n",
       "      <td>60.0</td>\n",
       "    </tr>\n",
       "    <tr>\n",
       "      <th>1</th>\n",
       "      <td>1.857143</td>\n",
       "      <td>2030.0</td>\n",
       "      <td>-0.003593</td>\n",
       "      <td>129.00</td>\n",
       "      <td>21.250000</td>\n",
       "      <td>300.000000</td>\n",
       "      <td>210.0</td>\n",
       "      <td>70.0</td>\n",
       "      <td>3000.0</td>\n",
       "      <td>220.0</td>\n",
       "      <td>0.0</td>\n",
       "      <td>5.0</td>\n",
       "      <td>47.0</td>\n",
       "    </tr>\n",
       "    <tr>\n",
       "      <th>2</th>\n",
       "      <td>2.771331</td>\n",
       "      <td>2030.0</td>\n",
       "      <td>0.039599</td>\n",
       "      <td>111.86</td>\n",
       "      <td>22.267857</td>\n",
       "      <td>284.615385</td>\n",
       "      <td>210.0</td>\n",
       "      <td>70.0</td>\n",
       "      <td>3000.0</td>\n",
       "      <td>220.0</td>\n",
       "      <td>0.0</td>\n",
       "      <td>5.0</td>\n",
       "      <td>57.0</td>\n",
       "    </tr>\n",
       "    <tr>\n",
       "      <th>3</th>\n",
       "      <td>2.767918</td>\n",
       "      <td>2000.0</td>\n",
       "      <td>0.024458</td>\n",
       "      <td>111.86</td>\n",
       "      <td>22.267857</td>\n",
       "      <td>284.615385</td>\n",
       "      <td>210.0</td>\n",
       "      <td>70.0</td>\n",
       "      <td>3000.0</td>\n",
       "      <td>220.0</td>\n",
       "      <td>0.0</td>\n",
       "      <td>5.0</td>\n",
       "      <td>60.0</td>\n",
       "    </tr>\n",
       "    <tr>\n",
       "      <th>4</th>\n",
       "      <td>2.569620</td>\n",
       "      <td>1910.0</td>\n",
       "      <td>0.203120</td>\n",
       "      <td>111.86</td>\n",
       "      <td>22.267857</td>\n",
       "      <td>284.615385</td>\n",
       "      <td>210.0</td>\n",
       "      <td>70.0</td>\n",
       "      <td>3000.0</td>\n",
       "      <td>220.0</td>\n",
       "      <td>0.0</td>\n",
       "      <td>5.0</td>\n",
       "      <td>70.0</td>\n",
       "    </tr>\n",
       "  </tbody>\n",
       "</table>\n",
       "</div>"
      ],
      "text/plain": [
       "   Соотношение матрица-наполнитель  Плотность, кг/м3  модуль упругости, ГПа  \\\n",
       "0                         1.857143            2030.0              -0.003593   \n",
       "1                         1.857143            2030.0              -0.003593   \n",
       "2                         2.771331            2030.0               0.039599   \n",
       "3                         2.767918            2000.0               0.024458   \n",
       "4                         2.569620            1910.0               0.203120   \n",
       "\n",
       "   Количество отвердителя, м.%  Содержание эпоксидных групп,%_2  \\\n",
       "0                        50.00                        23.750000   \n",
       "1                       129.00                        21.250000   \n",
       "2                       111.86                        22.267857   \n",
       "3                       111.86                        22.267857   \n",
       "4                       111.86                        22.267857   \n",
       "\n",
       "   Температура вспышки, С_2  Поверхностная плотность, г/м2  \\\n",
       "0                284.615385                          210.0   \n",
       "1                300.000000                          210.0   \n",
       "2                284.615385                          210.0   \n",
       "3                284.615385                          210.0   \n",
       "4                284.615385                          210.0   \n",
       "\n",
       "   Модуль упругости при растяжении, ГПа  Прочность при растяжении, МПа  \\\n",
       "0                                  70.0                         3000.0   \n",
       "1                                  70.0                         3000.0   \n",
       "2                                  70.0                         3000.0   \n",
       "3                                  70.0                         3000.0   \n",
       "4                                  70.0                         3000.0   \n",
       "\n",
       "   Потребление смолы, г/м2  Угол нашивки, град  Шаг нашивки  Плотность нашивки  \n",
       "0                    220.0                 0.0          4.0               60.0  \n",
       "1                    220.0                 0.0          5.0               47.0  \n",
       "2                    220.0                 0.0          5.0               57.0  \n",
       "3                    220.0                 0.0          5.0               60.0  \n",
       "4                    220.0                 0.0          5.0               70.0  "
      ]
     },
     "execution_count": 6,
     "metadata": {},
     "output_type": "execute_result"
    }
   ],
   "source": [
    "df = pd.read_csv(\"data/after_3s.csv\")\n",
    "df.drop(columns =['Unnamed: 0'], axis = 1, inplace = True)\n",
    "df.head()"
   ]
  },
  {
   "cell_type": "code",
   "execution_count": 10,
   "id": "2dd45820",
   "metadata": {},
   "outputs": [],
   "source": [
    "X"
   ]
  },
  {
   "cell_type": "code",
   "execution_count": 129,
   "id": "5d48dac9",
   "metadata": {},
   "outputs": [
    {
     "data": {
      "text/plain": [
       "0      1.857143\n",
       "1      1.857143\n",
       "2      2.771331\n",
       "3      2.767918\n",
       "4      2.569620\n",
       "         ...   \n",
       "994    2.271346\n",
       "995    3.444022\n",
       "996    3.280604\n",
       "997    3.705351\n",
       "998    3.808020\n",
       "Name: Соотношение матрица-наполнитель, Length: 999, dtype: float64"
      ]
     },
     "execution_count": 129,
     "metadata": {},
     "output_type": "execute_result"
    }
   ],
   "source": [
    "y"
   ]
  },
  {
   "cell_type": "code",
   "execution_count": 4,
   "id": "0da9b9c0",
   "metadata": {},
   "outputs": [],
   "source": [
    "#get one X variable and our target(y)\n",
    "X = df.drop(columns = ['Соотношение матрица-наполнитель', 'Угол нашивки, град', 'Модуль упругости при растяжении, ГПа', \n",
    "                       'Прочность при растяжении, МПа'], axis = 1, inplace = True)"
   ]
  },
  {
   "cell_type": "code",
   "execution_count": 7,
   "id": "9414b53a",
   "metadata": {},
   "outputs": [],
   "source": [
    "df.drop(columns = ['Соотношение матрица-наполнитель', 'Угол нашивки, град', 'Модуль упругости при растяжении, ГПа', \n",
    "                       'Прочность при растяжении, МПа'], axis = 1, inplace = True)\n"
   ]
  },
  {
   "cell_type": "code",
   "execution_count": 8,
   "id": "a0d3d5b7",
   "metadata": {},
   "outputs": [
    {
     "data": {
      "text/html": [
       "<div>\n",
       "<style scoped>\n",
       "    .dataframe tbody tr th:only-of-type {\n",
       "        vertical-align: middle;\n",
       "    }\n",
       "\n",
       "    .dataframe tbody tr th {\n",
       "        vertical-align: top;\n",
       "    }\n",
       "\n",
       "    .dataframe thead th {\n",
       "        text-align: right;\n",
       "    }\n",
       "</style>\n",
       "<table border=\"1\" class=\"dataframe\">\n",
       "  <thead>\n",
       "    <tr style=\"text-align: right;\">\n",
       "      <th></th>\n",
       "      <th>Плотность, кг/м3</th>\n",
       "      <th>модуль упругости, ГПа</th>\n",
       "      <th>Количество отвердителя, м.%</th>\n",
       "      <th>Содержание эпоксидных групп,%_2</th>\n",
       "      <th>Температура вспышки, С_2</th>\n",
       "      <th>Поверхностная плотность, г/м2</th>\n",
       "      <th>Потребление смолы, г/м2</th>\n",
       "      <th>Шаг нашивки</th>\n",
       "      <th>Плотность нашивки</th>\n",
       "    </tr>\n",
       "  </thead>\n",
       "  <tbody>\n",
       "    <tr>\n",
       "      <th>0</th>\n",
       "      <td>2030.000000</td>\n",
       "      <td>-0.003593</td>\n",
       "      <td>50.000000</td>\n",
       "      <td>23.750000</td>\n",
       "      <td>284.615385</td>\n",
       "      <td>210.000000</td>\n",
       "      <td>220.000000</td>\n",
       "      <td>4.000000</td>\n",
       "      <td>60.000000</td>\n",
       "    </tr>\n",
       "    <tr>\n",
       "      <th>1</th>\n",
       "      <td>2030.000000</td>\n",
       "      <td>-0.003593</td>\n",
       "      <td>129.000000</td>\n",
       "      <td>21.250000</td>\n",
       "      <td>300.000000</td>\n",
       "      <td>210.000000</td>\n",
       "      <td>220.000000</td>\n",
       "      <td>5.000000</td>\n",
       "      <td>47.000000</td>\n",
       "    </tr>\n",
       "    <tr>\n",
       "      <th>2</th>\n",
       "      <td>2030.000000</td>\n",
       "      <td>0.039599</td>\n",
       "      <td>111.860000</td>\n",
       "      <td>22.267857</td>\n",
       "      <td>284.615385</td>\n",
       "      <td>210.000000</td>\n",
       "      <td>220.000000</td>\n",
       "      <td>5.000000</td>\n",
       "      <td>57.000000</td>\n",
       "    </tr>\n",
       "    <tr>\n",
       "      <th>3</th>\n",
       "      <td>2000.000000</td>\n",
       "      <td>0.024458</td>\n",
       "      <td>111.860000</td>\n",
       "      <td>22.267857</td>\n",
       "      <td>284.615385</td>\n",
       "      <td>210.000000</td>\n",
       "      <td>220.000000</td>\n",
       "      <td>5.000000</td>\n",
       "      <td>60.000000</td>\n",
       "    </tr>\n",
       "    <tr>\n",
       "      <th>4</th>\n",
       "      <td>1910.000000</td>\n",
       "      <td>0.203120</td>\n",
       "      <td>111.860000</td>\n",
       "      <td>22.267857</td>\n",
       "      <td>284.615385</td>\n",
       "      <td>210.000000</td>\n",
       "      <td>220.000000</td>\n",
       "      <td>5.000000</td>\n",
       "      <td>70.000000</td>\n",
       "    </tr>\n",
       "    <tr>\n",
       "      <th>...</th>\n",
       "      <td>...</td>\n",
       "      <td>...</td>\n",
       "      <td>...</td>\n",
       "      <td>...</td>\n",
       "      <td>...</td>\n",
       "      <td>...</td>\n",
       "      <td>...</td>\n",
       "      <td>...</td>\n",
       "      <td>...</td>\n",
       "    </tr>\n",
       "    <tr>\n",
       "      <th>994</th>\n",
       "      <td>1952.087902</td>\n",
       "      <td>0.523670</td>\n",
       "      <td>86.992183</td>\n",
       "      <td>20.123249</td>\n",
       "      <td>324.774576</td>\n",
       "      <td>209.198700</td>\n",
       "      <td>125.007669</td>\n",
       "      <td>9.076380</td>\n",
       "      <td>47.019770</td>\n",
       "    </tr>\n",
       "    <tr>\n",
       "      <th>995</th>\n",
       "      <td>2050.089171</td>\n",
       "      <td>-0.893890</td>\n",
       "      <td>145.981978</td>\n",
       "      <td>19.599769</td>\n",
       "      <td>254.215401</td>\n",
       "      <td>350.660830</td>\n",
       "      <td>117.730099</td>\n",
       "      <td>10.565614</td>\n",
       "      <td>53.750790</td>\n",
       "    </tr>\n",
       "    <tr>\n",
       "      <th>996</th>\n",
       "      <td>1972.372865</td>\n",
       "      <td>-0.978364</td>\n",
       "      <td>110.533477</td>\n",
       "      <td>23.957502</td>\n",
       "      <td>248.423047</td>\n",
       "      <td>740.142791</td>\n",
       "      <td>236.606764</td>\n",
       "      <td>4.161154</td>\n",
       "      <td>67.629684</td>\n",
       "    </tr>\n",
       "    <tr>\n",
       "      <th>997</th>\n",
       "      <td>2066.799773</td>\n",
       "      <td>0.004701</td>\n",
       "      <td>141.397963</td>\n",
       "      <td>19.246945</td>\n",
       "      <td>275.779840</td>\n",
       "      <td>641.468152</td>\n",
       "      <td>197.126067</td>\n",
       "      <td>6.313201</td>\n",
       "      <td>58.261074</td>\n",
       "    </tr>\n",
       "    <tr>\n",
       "      <th>998</th>\n",
       "      <td>1890.413468</td>\n",
       "      <td>-0.976911</td>\n",
       "      <td>129.183416</td>\n",
       "      <td>27.474763</td>\n",
       "      <td>300.952708</td>\n",
       "      <td>758.747882</td>\n",
       "      <td>194.754342</td>\n",
       "      <td>6.078902</td>\n",
       "      <td>77.434468</td>\n",
       "    </tr>\n",
       "  </tbody>\n",
       "</table>\n",
       "<p>999 rows × 9 columns</p>\n",
       "</div>"
      ],
      "text/plain": [
       "     Плотность, кг/м3  модуль упругости, ГПа  Количество отвердителя, м.%  \\\n",
       "0         2030.000000              -0.003593                    50.000000   \n",
       "1         2030.000000              -0.003593                   129.000000   \n",
       "2         2030.000000               0.039599                   111.860000   \n",
       "3         2000.000000               0.024458                   111.860000   \n",
       "4         1910.000000               0.203120                   111.860000   \n",
       "..                ...                    ...                          ...   \n",
       "994       1952.087902               0.523670                    86.992183   \n",
       "995       2050.089171              -0.893890                   145.981978   \n",
       "996       1972.372865              -0.978364                   110.533477   \n",
       "997       2066.799773               0.004701                   141.397963   \n",
       "998       1890.413468              -0.976911                   129.183416   \n",
       "\n",
       "     Содержание эпоксидных групп,%_2  Температура вспышки, С_2  \\\n",
       "0                          23.750000                284.615385   \n",
       "1                          21.250000                300.000000   \n",
       "2                          22.267857                284.615385   \n",
       "3                          22.267857                284.615385   \n",
       "4                          22.267857                284.615385   \n",
       "..                               ...                       ...   \n",
       "994                        20.123249                324.774576   \n",
       "995                        19.599769                254.215401   \n",
       "996                        23.957502                248.423047   \n",
       "997                        19.246945                275.779840   \n",
       "998                        27.474763                300.952708   \n",
       "\n",
       "     Поверхностная плотность, г/м2  Потребление смолы, г/м2  Шаг нашивки  \\\n",
       "0                       210.000000               220.000000     4.000000   \n",
       "1                       210.000000               220.000000     5.000000   \n",
       "2                       210.000000               220.000000     5.000000   \n",
       "3                       210.000000               220.000000     5.000000   \n",
       "4                       210.000000               220.000000     5.000000   \n",
       "..                             ...                      ...          ...   \n",
       "994                     209.198700               125.007669     9.076380   \n",
       "995                     350.660830               117.730099    10.565614   \n",
       "996                     740.142791               236.606764     4.161154   \n",
       "997                     641.468152               197.126067     6.313201   \n",
       "998                     758.747882               194.754342     6.078902   \n",
       "\n",
       "     Плотность нашивки  \n",
       "0            60.000000  \n",
       "1            47.000000  \n",
       "2            57.000000  \n",
       "3            60.000000  \n",
       "4            70.000000  \n",
       "..                 ...  \n",
       "994          47.019770  \n",
       "995          53.750790  \n",
       "996          67.629684  \n",
       "997          58.261074  \n",
       "998          77.434468  \n",
       "\n",
       "[999 rows x 9 columns]"
      ]
     },
     "execution_count": 8,
     "metadata": {},
     "output_type": "execute_result"
    }
   ],
   "source": [
    "df"
   ]
  },
  {
   "cell_type": "code",
   "execution_count": 126,
   "id": "b4e09ecb",
   "metadata": {},
   "outputs": [
    {
     "ename": "KeyError",
     "evalue": "('Модуль упругости при растяжении, ГПа', 'Прочность при растяжении, МПа')",
     "output_type": "error",
     "traceback": [
      "\u001b[1;31m---------------------------------------------------------------------------\u001b[0m",
      "\u001b[1;31mKeyError\u001b[0m                                  Traceback (most recent call last)",
      "\u001b[1;32mA:\\conda\\lib\\site-packages\\pandas\\core\\indexes\\base.py\u001b[0m in \u001b[0;36mget_loc\u001b[1;34m(self, key, method, tolerance)\u001b[0m\n\u001b[0;32m   3360\u001b[0m             \u001b[1;32mtry\u001b[0m\u001b[1;33m:\u001b[0m\u001b[1;33m\u001b[0m\u001b[1;33m\u001b[0m\u001b[0m\n\u001b[1;32m-> 3361\u001b[1;33m                 \u001b[1;32mreturn\u001b[0m \u001b[0mself\u001b[0m\u001b[1;33m.\u001b[0m\u001b[0m_engine\u001b[0m\u001b[1;33m.\u001b[0m\u001b[0mget_loc\u001b[0m\u001b[1;33m(\u001b[0m\u001b[0mcasted_key\u001b[0m\u001b[1;33m)\u001b[0m\u001b[1;33m\u001b[0m\u001b[1;33m\u001b[0m\u001b[0m\n\u001b[0m\u001b[0;32m   3362\u001b[0m             \u001b[1;32mexcept\u001b[0m \u001b[0mKeyError\u001b[0m \u001b[1;32mas\u001b[0m \u001b[0merr\u001b[0m\u001b[1;33m:\u001b[0m\u001b[1;33m\u001b[0m\u001b[1;33m\u001b[0m\u001b[0m\n",
      "\u001b[1;32mA:\\conda\\lib\\site-packages\\pandas\\_libs\\index.pyx\u001b[0m in \u001b[0;36mpandas._libs.index.IndexEngine.get_loc\u001b[1;34m()\u001b[0m\n",
      "\u001b[1;32mA:\\conda\\lib\\site-packages\\pandas\\_libs\\index.pyx\u001b[0m in \u001b[0;36mpandas._libs.index.IndexEngine.get_loc\u001b[1;34m()\u001b[0m\n",
      "\u001b[1;32mpandas\\_libs\\hashtable_class_helper.pxi\u001b[0m in \u001b[0;36mpandas._libs.hashtable.PyObjectHashTable.get_item\u001b[1;34m()\u001b[0m\n",
      "\u001b[1;32mpandas\\_libs\\hashtable_class_helper.pxi\u001b[0m in \u001b[0;36mpandas._libs.hashtable.PyObjectHashTable.get_item\u001b[1;34m()\u001b[0m\n",
      "\u001b[1;31mKeyError\u001b[0m: ('Модуль упругости при растяжении, ГПа', 'Прочность при растяжении, МПа')",
      "\nThe above exception was the direct cause of the following exception:\n",
      "\u001b[1;31mKeyError\u001b[0m                                  Traceback (most recent call last)",
      "\u001b[1;32m~\\AppData\\Local\\Temp/ipykernel_5284/102011598.py\u001b[0m in \u001b[0;36m<module>\u001b[1;34m\u001b[0m\n\u001b[1;32m----> 1\u001b[1;33m \u001b[0my\u001b[0m \u001b[1;33m=\u001b[0m \u001b[0mdf\u001b[0m\u001b[1;33m[\u001b[0m\u001b[1;34m'Модуль упругости при растяжении, ГПа'\u001b[0m\u001b[1;33m,\u001b[0m \u001b[1;34m'Прочность при растяжении, МПа'\u001b[0m\u001b[1;33m]\u001b[0m\u001b[1;33m\u001b[0m\u001b[1;33m\u001b[0m\u001b[0m\n\u001b[0m",
      "\u001b[1;32mA:\\conda\\lib\\site-packages\\pandas\\core\\frame.py\u001b[0m in \u001b[0;36m__getitem__\u001b[1;34m(self, key)\u001b[0m\n\u001b[0;32m   3456\u001b[0m             \u001b[1;32mif\u001b[0m \u001b[0mself\u001b[0m\u001b[1;33m.\u001b[0m\u001b[0mcolumns\u001b[0m\u001b[1;33m.\u001b[0m\u001b[0mnlevels\u001b[0m \u001b[1;33m>\u001b[0m \u001b[1;36m1\u001b[0m\u001b[1;33m:\u001b[0m\u001b[1;33m\u001b[0m\u001b[1;33m\u001b[0m\u001b[0m\n\u001b[0;32m   3457\u001b[0m                 \u001b[1;32mreturn\u001b[0m \u001b[0mself\u001b[0m\u001b[1;33m.\u001b[0m\u001b[0m_getitem_multilevel\u001b[0m\u001b[1;33m(\u001b[0m\u001b[0mkey\u001b[0m\u001b[1;33m)\u001b[0m\u001b[1;33m\u001b[0m\u001b[1;33m\u001b[0m\u001b[0m\n\u001b[1;32m-> 3458\u001b[1;33m             \u001b[0mindexer\u001b[0m \u001b[1;33m=\u001b[0m \u001b[0mself\u001b[0m\u001b[1;33m.\u001b[0m\u001b[0mcolumns\u001b[0m\u001b[1;33m.\u001b[0m\u001b[0mget_loc\u001b[0m\u001b[1;33m(\u001b[0m\u001b[0mkey\u001b[0m\u001b[1;33m)\u001b[0m\u001b[1;33m\u001b[0m\u001b[1;33m\u001b[0m\u001b[0m\n\u001b[0m\u001b[0;32m   3459\u001b[0m             \u001b[1;32mif\u001b[0m \u001b[0mis_integer\u001b[0m\u001b[1;33m(\u001b[0m\u001b[0mindexer\u001b[0m\u001b[1;33m)\u001b[0m\u001b[1;33m:\u001b[0m\u001b[1;33m\u001b[0m\u001b[1;33m\u001b[0m\u001b[0m\n\u001b[0;32m   3460\u001b[0m                 \u001b[0mindexer\u001b[0m \u001b[1;33m=\u001b[0m \u001b[1;33m[\u001b[0m\u001b[0mindexer\u001b[0m\u001b[1;33m]\u001b[0m\u001b[1;33m\u001b[0m\u001b[1;33m\u001b[0m\u001b[0m\n",
      "\u001b[1;32mA:\\conda\\lib\\site-packages\\pandas\\core\\indexes\\base.py\u001b[0m in \u001b[0;36mget_loc\u001b[1;34m(self, key, method, tolerance)\u001b[0m\n\u001b[0;32m   3361\u001b[0m                 \u001b[1;32mreturn\u001b[0m \u001b[0mself\u001b[0m\u001b[1;33m.\u001b[0m\u001b[0m_engine\u001b[0m\u001b[1;33m.\u001b[0m\u001b[0mget_loc\u001b[0m\u001b[1;33m(\u001b[0m\u001b[0mcasted_key\u001b[0m\u001b[1;33m)\u001b[0m\u001b[1;33m\u001b[0m\u001b[1;33m\u001b[0m\u001b[0m\n\u001b[0;32m   3362\u001b[0m             \u001b[1;32mexcept\u001b[0m \u001b[0mKeyError\u001b[0m \u001b[1;32mas\u001b[0m \u001b[0merr\u001b[0m\u001b[1;33m:\u001b[0m\u001b[1;33m\u001b[0m\u001b[1;33m\u001b[0m\u001b[0m\n\u001b[1;32m-> 3363\u001b[1;33m                 \u001b[1;32mraise\u001b[0m \u001b[0mKeyError\u001b[0m\u001b[1;33m(\u001b[0m\u001b[0mkey\u001b[0m\u001b[1;33m)\u001b[0m \u001b[1;32mfrom\u001b[0m \u001b[0merr\u001b[0m\u001b[1;33m\u001b[0m\u001b[1;33m\u001b[0m\u001b[0m\n\u001b[0m\u001b[0;32m   3364\u001b[0m \u001b[1;33m\u001b[0m\u001b[0m\n\u001b[0;32m   3365\u001b[0m         \u001b[1;32mif\u001b[0m \u001b[0mis_scalar\u001b[0m\u001b[1;33m(\u001b[0m\u001b[0mkey\u001b[0m\u001b[1;33m)\u001b[0m \u001b[1;32mand\u001b[0m \u001b[0misna\u001b[0m\u001b[1;33m(\u001b[0m\u001b[0mkey\u001b[0m\u001b[1;33m)\u001b[0m \u001b[1;32mand\u001b[0m \u001b[1;32mnot\u001b[0m \u001b[0mself\u001b[0m\u001b[1;33m.\u001b[0m\u001b[0mhasnans\u001b[0m\u001b[1;33m:\u001b[0m\u001b[1;33m\u001b[0m\u001b[1;33m\u001b[0m\u001b[0m\n",
      "\u001b[1;31mKeyError\u001b[0m: ('Модуль упругости при растяжении, ГПа', 'Прочность при растяжении, МПа')"
     ]
    }
   ],
   "source": [
    "y = df['Модуль упругости при растяжении, ГПа', 'Прочность при растяжении, МПа']"
   ]
  },
  {
   "cell_type": "code",
   "execution_count": null,
   "id": "2d02b630",
   "metadata": {},
   "outputs": [],
   "source": [
    "['Unnamed: 0'], axis = 1, inplace = True)"
   ]
  },
  {
   "cell_type": "code",
   "execution_count": 62,
   "id": "f604a8c3",
   "metadata": {},
   "outputs": [
    {
     "data": {
      "text/plain": [
       "Index(['Соотношение матрица-наполнитель', 'Плотность, кг/м3',\n",
       "       'модуль упругости, ГПа', 'Количество отвердителя, м.%',\n",
       "       'Содержание эпоксидных групп,%_2', 'Температура вспышки, С_2',\n",
       "       'Поверхностная плотность, г/м2', 'Модуль упругости при растяжении, ГПа',\n",
       "       'Прочность при растяжении, МПа', 'Потребление смолы, г/м2',\n",
       "       'Угол нашивки, град', 'Шаг нашивки', 'Плотность нашивки'],\n",
       "      dtype='object')"
      ]
     },
     "execution_count": 62,
     "metadata": {},
     "output_type": "execute_result"
    }
   ],
   "source": [
    "df.columns"
   ]
  },
  {
   "cell_type": "code",
   "execution_count": 63,
   "id": "9c700a87",
   "metadata": {},
   "outputs": [
    {
     "data": {
      "text/html": [
       "<div>\n",
       "<style scoped>\n",
       "    .dataframe tbody tr th:only-of-type {\n",
       "        vertical-align: middle;\n",
       "    }\n",
       "\n",
       "    .dataframe tbody tr th {\n",
       "        vertical-align: top;\n",
       "    }\n",
       "\n",
       "    .dataframe thead th {\n",
       "        text-align: right;\n",
       "    }\n",
       "</style>\n",
       "<table border=\"1\" class=\"dataframe\">\n",
       "  <thead>\n",
       "    <tr style=\"text-align: right;\">\n",
       "      <th></th>\n",
       "      <th>Плотность, кг/м3</th>\n",
       "      <th>Количество отвердителя, м.%</th>\n",
       "      <th>Содержание эпоксидных групп,%_2</th>\n",
       "      <th>Температура вспышки, С_2</th>\n",
       "      <th>Поверхностная плотность, г/м2</th>\n",
       "      <th>Потребление смолы, г/м2</th>\n",
       "      <th>Шаг нашивки</th>\n",
       "      <th>Плотность нашивки</th>\n",
       "    </tr>\n",
       "  </thead>\n",
       "  <tbody>\n",
       "    <tr>\n",
       "      <th>0</th>\n",
       "      <td>2030.000000</td>\n",
       "      <td>50.000000</td>\n",
       "      <td>23.750000</td>\n",
       "      <td>284.615385</td>\n",
       "      <td>210.000000</td>\n",
       "      <td>220.000000</td>\n",
       "      <td>4.000000</td>\n",
       "      <td>60.000000</td>\n",
       "    </tr>\n",
       "    <tr>\n",
       "      <th>1</th>\n",
       "      <td>2030.000000</td>\n",
       "      <td>129.000000</td>\n",
       "      <td>21.250000</td>\n",
       "      <td>300.000000</td>\n",
       "      <td>210.000000</td>\n",
       "      <td>220.000000</td>\n",
       "      <td>5.000000</td>\n",
       "      <td>47.000000</td>\n",
       "    </tr>\n",
       "    <tr>\n",
       "      <th>2</th>\n",
       "      <td>2030.000000</td>\n",
       "      <td>111.860000</td>\n",
       "      <td>22.267857</td>\n",
       "      <td>284.615385</td>\n",
       "      <td>210.000000</td>\n",
       "      <td>220.000000</td>\n",
       "      <td>5.000000</td>\n",
       "      <td>57.000000</td>\n",
       "    </tr>\n",
       "    <tr>\n",
       "      <th>3</th>\n",
       "      <td>2000.000000</td>\n",
       "      <td>111.860000</td>\n",
       "      <td>22.267857</td>\n",
       "      <td>284.615385</td>\n",
       "      <td>210.000000</td>\n",
       "      <td>220.000000</td>\n",
       "      <td>5.000000</td>\n",
       "      <td>60.000000</td>\n",
       "    </tr>\n",
       "    <tr>\n",
       "      <th>4</th>\n",
       "      <td>1910.000000</td>\n",
       "      <td>111.860000</td>\n",
       "      <td>22.267857</td>\n",
       "      <td>284.615385</td>\n",
       "      <td>210.000000</td>\n",
       "      <td>220.000000</td>\n",
       "      <td>5.000000</td>\n",
       "      <td>70.000000</td>\n",
       "    </tr>\n",
       "    <tr>\n",
       "      <th>...</th>\n",
       "      <td>...</td>\n",
       "      <td>...</td>\n",
       "      <td>...</td>\n",
       "      <td>...</td>\n",
       "      <td>...</td>\n",
       "      <td>...</td>\n",
       "      <td>...</td>\n",
       "      <td>...</td>\n",
       "    </tr>\n",
       "    <tr>\n",
       "      <th>994</th>\n",
       "      <td>1952.087902</td>\n",
       "      <td>86.992183</td>\n",
       "      <td>20.123249</td>\n",
       "      <td>324.774576</td>\n",
       "      <td>209.198700</td>\n",
       "      <td>125.007669</td>\n",
       "      <td>9.076380</td>\n",
       "      <td>47.019770</td>\n",
       "    </tr>\n",
       "    <tr>\n",
       "      <th>995</th>\n",
       "      <td>2050.089171</td>\n",
       "      <td>145.981978</td>\n",
       "      <td>19.599769</td>\n",
       "      <td>254.215401</td>\n",
       "      <td>350.660830</td>\n",
       "      <td>117.730099</td>\n",
       "      <td>10.565614</td>\n",
       "      <td>53.750790</td>\n",
       "    </tr>\n",
       "    <tr>\n",
       "      <th>996</th>\n",
       "      <td>1972.372865</td>\n",
       "      <td>110.533477</td>\n",
       "      <td>23.957502</td>\n",
       "      <td>248.423047</td>\n",
       "      <td>740.142791</td>\n",
       "      <td>236.606764</td>\n",
       "      <td>4.161154</td>\n",
       "      <td>67.629684</td>\n",
       "    </tr>\n",
       "    <tr>\n",
       "      <th>997</th>\n",
       "      <td>2066.799773</td>\n",
       "      <td>141.397963</td>\n",
       "      <td>19.246945</td>\n",
       "      <td>275.779840</td>\n",
       "      <td>641.468152</td>\n",
       "      <td>197.126067</td>\n",
       "      <td>6.313201</td>\n",
       "      <td>58.261074</td>\n",
       "    </tr>\n",
       "    <tr>\n",
       "      <th>998</th>\n",
       "      <td>1890.413468</td>\n",
       "      <td>129.183416</td>\n",
       "      <td>27.474763</td>\n",
       "      <td>300.952708</td>\n",
       "      <td>758.747882</td>\n",
       "      <td>194.754342</td>\n",
       "      <td>6.078902</td>\n",
       "      <td>77.434468</td>\n",
       "    </tr>\n",
       "  </tbody>\n",
       "</table>\n",
       "<p>999 rows × 8 columns</p>\n",
       "</div>"
      ],
      "text/plain": [
       "     Плотность, кг/м3  Количество отвердителя, м.%  \\\n",
       "0         2030.000000                    50.000000   \n",
       "1         2030.000000                   129.000000   \n",
       "2         2030.000000                   111.860000   \n",
       "3         2000.000000                   111.860000   \n",
       "4         1910.000000                   111.860000   \n",
       "..                ...                          ...   \n",
       "994       1952.087902                    86.992183   \n",
       "995       2050.089171                   145.981978   \n",
       "996       1972.372865                   110.533477   \n",
       "997       2066.799773                   141.397963   \n",
       "998       1890.413468                   129.183416   \n",
       "\n",
       "     Содержание эпоксидных групп,%_2  Температура вспышки, С_2  \\\n",
       "0                          23.750000                284.615385   \n",
       "1                          21.250000                300.000000   \n",
       "2                          22.267857                284.615385   \n",
       "3                          22.267857                284.615385   \n",
       "4                          22.267857                284.615385   \n",
       "..                               ...                       ...   \n",
       "994                        20.123249                324.774576   \n",
       "995                        19.599769                254.215401   \n",
       "996                        23.957502                248.423047   \n",
       "997                        19.246945                275.779840   \n",
       "998                        27.474763                300.952708   \n",
       "\n",
       "     Поверхностная плотность, г/м2  Потребление смолы, г/м2  Шаг нашивки  \\\n",
       "0                       210.000000               220.000000     4.000000   \n",
       "1                       210.000000               220.000000     5.000000   \n",
       "2                       210.000000               220.000000     5.000000   \n",
       "3                       210.000000               220.000000     5.000000   \n",
       "4                       210.000000               220.000000     5.000000   \n",
       "..                             ...                      ...          ...   \n",
       "994                     209.198700               125.007669     9.076380   \n",
       "995                     350.660830               117.730099    10.565614   \n",
       "996                     740.142791               236.606764     4.161154   \n",
       "997                     641.468152               197.126067     6.313201   \n",
       "998                     758.747882               194.754342     6.078902   \n",
       "\n",
       "     Плотность нашивки  \n",
       "0            60.000000  \n",
       "1            47.000000  \n",
       "2            57.000000  \n",
       "3            60.000000  \n",
       "4            70.000000  \n",
       "..                 ...  \n",
       "994          47.019770  \n",
       "995          53.750790  \n",
       "996          67.629684  \n",
       "997          58.261074  \n",
       "998          77.434468  \n",
       "\n",
       "[999 rows x 8 columns]"
      ]
     },
     "execution_count": 63,
     "metadata": {},
     "output_type": "execute_result"
    }
   ],
   "source": [
    "X"
   ]
  },
  {
   "cell_type": "code",
   "execution_count": 64,
   "id": "1c608541",
   "metadata": {},
   "outputs": [
    {
     "data": {
      "text/plain": [
       "0      1.857143\n",
       "1      1.857143\n",
       "2      2.771331\n",
       "3      2.767918\n",
       "4      2.569620\n",
       "         ...   \n",
       "994    2.271346\n",
       "995    3.444022\n",
       "996    3.280604\n",
       "997    3.705351\n",
       "998    3.808020\n",
       "Name: Соотношение матрица-наполнитель, Length: 999, dtype: float64"
      ]
     },
     "execution_count": 64,
     "metadata": {},
     "output_type": "execute_result"
    }
   ],
   "source": [
    "y"
   ]
  },
  {
   "cell_type": "code",
   "execution_count": 65,
   "id": "4f677a6d",
   "metadata": {},
   "outputs": [],
   "source": [
    "#splitting Train and Test \n",
    "from sklearn.model_selection import train_test_split\n",
    "X_train, X_test, y_train, y_test = train_test_split(X, y, test_size=0.3, random_state=0)"
   ]
  },
  {
   "cell_type": "code",
   "execution_count": 66,
   "id": "586721b3",
   "metadata": {},
   "outputs": [
    {
     "name": "stderr",
     "output_type": "stream",
     "text": [
      "C:\\Users\\vagid\\AppData\\Local\\Temp/ipykernel_5284/797503184.py:4: DeprecationWarning: `np.float` is a deprecated alias for the builtin `float`. To silence this warning, use `float` by itself. Doing this will not modify any behavior and is safe. If you specifically wanted the numpy scalar type, use `np.float64` here.\n",
      "Deprecated in NumPy 1.20; for more details and guidance: https://numpy.org/devdocs/release/1.20.0-notes.html#deprecations\n",
      "  X_train = s_scaler.fit_transform(X_train.astype(np.float))\n",
      "C:\\Users\\vagid\\AppData\\Local\\Temp/ipykernel_5284/797503184.py:5: DeprecationWarning: `np.float` is a deprecated alias for the builtin `float`. To silence this warning, use `float` by itself. Doing this will not modify any behavior and is safe. If you specifically wanted the numpy scalar type, use `np.float64` here.\n",
      "Deprecated in NumPy 1.20; for more details and guidance: https://numpy.org/devdocs/release/1.20.0-notes.html#deprecations\n",
      "  X_test = s_scaler.transform(X_test.astype(np.float))\n"
     ]
    }
   ],
   "source": [
    "#standardization scaler - fit&transform on train, fit only on test\n",
    "from sklearn.preprocessing import StandardScaler\n",
    "s_scaler = StandardScaler()\n",
    "X_train = s_scaler.fit_transform(X_train.astype(np.float))\n",
    "X_test = s_scaler.transform(X_test.astype(np.float))"
   ]
  },
  {
   "cell_type": "code",
   "execution_count": 67,
   "id": "47b188f7",
   "metadata": {},
   "outputs": [
    {
     "data": {
      "text/plain": [
       "array([[ 0.05875512,  0.04651662, -0.01326182, ..., -1.91445306,\n",
       "         2.24889313, -1.65106325],\n",
       "       [ 0.71188687, -1.34739452,  2.15960935, ...,  0.01347916,\n",
       "        -2.70186251,  0.16863007],\n",
       "       [-0.05987416, -0.76593842, -1.17455693, ..., -0.55031728,\n",
       "         2.64942075,  0.67356407],\n",
       "       ...,\n",
       "       [-1.38626573,  1.1247237 ,  0.81772313, ...,  0.41029093,\n",
       "        -0.30849954, -0.22900849],\n",
       "       [ 0.66507849, -1.3862654 , -2.29256375, ..., -0.35331994,\n",
       "         0.13411467, -0.20542499],\n",
       "       [-1.09547761, -0.8602915 , -0.43159375, ..., -1.68245367,\n",
       "        -1.1198064 ,  0.38822057]])"
      ]
     },
     "execution_count": 67,
     "metadata": {},
     "output_type": "execute_result"
    }
   ],
   "source": [
    "X_train"
   ]
  },
  {
   "cell_type": "code",
   "execution_count": 68,
   "id": "cb7ca893",
   "metadata": {},
   "outputs": [
    {
     "data": {
      "text/plain": [
       "array([[-1.21482733,  0.3389673 , -0.99464185, ...,  1.85094187,\n",
       "         0.45381607, -0.24064199],\n",
       "       [-1.90049185,  0.14426148,  0.82748971, ...,  0.14682509,\n",
       "        -0.45122986,  1.36410632],\n",
       "       [ 0.87013031, -0.07816344,  0.83674833, ...,  0.18407762,\n",
       "         0.70137235,  1.12583097],\n",
       "       ...,\n",
       "       [ 0.13149415, -0.65071509,  1.00893558, ...,  0.71802033,\n",
       "        -1.25919239,  1.78737679],\n",
       "       [-0.6340785 ,  1.82811512,  0.21259369, ..., -1.50938564,\n",
       "        -0.93008685,  0.51968205],\n",
       "       [ 0.68031913, -1.43655732, -0.30122388, ...,  0.53797318,\n",
       "         0.37363079, -0.30340386]])"
      ]
     },
     "execution_count": 68,
     "metadata": {},
     "output_type": "execute_result"
    }
   ],
   "source": [
    "X_test"
   ]
  },
  {
   "cell_type": "code",
   "execution_count": 69,
   "id": "3e3e8485",
   "metadata": {},
   "outputs": [
    {
     "data": {
      "text/html": [
       "<style>#sk-container-id-3 {color: black;background-color: white;}#sk-container-id-3 pre{padding: 0;}#sk-container-id-3 div.sk-toggleable {background-color: white;}#sk-container-id-3 label.sk-toggleable__label {cursor: pointer;display: block;width: 100%;margin-bottom: 0;padding: 0.3em;box-sizing: border-box;text-align: center;}#sk-container-id-3 label.sk-toggleable__label-arrow:before {content: \"▸\";float: left;margin-right: 0.25em;color: #696969;}#sk-container-id-3 label.sk-toggleable__label-arrow:hover:before {color: black;}#sk-container-id-3 div.sk-estimator:hover label.sk-toggleable__label-arrow:before {color: black;}#sk-container-id-3 div.sk-toggleable__content {max-height: 0;max-width: 0;overflow: hidden;text-align: left;background-color: #f0f8ff;}#sk-container-id-3 div.sk-toggleable__content pre {margin: 0.2em;color: black;border-radius: 0.25em;background-color: #f0f8ff;}#sk-container-id-3 input.sk-toggleable__control:checked~div.sk-toggleable__content {max-height: 200px;max-width: 100%;overflow: auto;}#sk-container-id-3 input.sk-toggleable__control:checked~label.sk-toggleable__label-arrow:before {content: \"▾\";}#sk-container-id-3 div.sk-estimator input.sk-toggleable__control:checked~label.sk-toggleable__label {background-color: #d4ebff;}#sk-container-id-3 div.sk-label input.sk-toggleable__control:checked~label.sk-toggleable__label {background-color: #d4ebff;}#sk-container-id-3 input.sk-hidden--visually {border: 0;clip: rect(1px 1px 1px 1px);clip: rect(1px, 1px, 1px, 1px);height: 1px;margin: -1px;overflow: hidden;padding: 0;position: absolute;width: 1px;}#sk-container-id-3 div.sk-estimator {font-family: monospace;background-color: #f0f8ff;border: 1px dotted black;border-radius: 0.25em;box-sizing: border-box;margin-bottom: 0.5em;}#sk-container-id-3 div.sk-estimator:hover {background-color: #d4ebff;}#sk-container-id-3 div.sk-parallel-item::after {content: \"\";width: 100%;border-bottom: 1px solid gray;flex-grow: 1;}#sk-container-id-3 div.sk-label:hover label.sk-toggleable__label {background-color: #d4ebff;}#sk-container-id-3 div.sk-serial::before {content: \"\";position: absolute;border-left: 1px solid gray;box-sizing: border-box;top: 0;bottom: 0;left: 50%;z-index: 0;}#sk-container-id-3 div.sk-serial {display: flex;flex-direction: column;align-items: center;background-color: white;padding-right: 0.2em;padding-left: 0.2em;position: relative;}#sk-container-id-3 div.sk-item {position: relative;z-index: 1;}#sk-container-id-3 div.sk-parallel {display: flex;align-items: stretch;justify-content: center;background-color: white;position: relative;}#sk-container-id-3 div.sk-item::before, #sk-container-id-3 div.sk-parallel-item::before {content: \"\";position: absolute;border-left: 1px solid gray;box-sizing: border-box;top: 0;bottom: 0;left: 50%;z-index: -1;}#sk-container-id-3 div.sk-parallel-item {display: flex;flex-direction: column;z-index: 1;position: relative;background-color: white;}#sk-container-id-3 div.sk-parallel-item:first-child::after {align-self: flex-end;width: 50%;}#sk-container-id-3 div.sk-parallel-item:last-child::after {align-self: flex-start;width: 50%;}#sk-container-id-3 div.sk-parallel-item:only-child::after {width: 0;}#sk-container-id-3 div.sk-dashed-wrapped {border: 1px dashed gray;margin: 0 0.4em 0.5em 0.4em;box-sizing: border-box;padding-bottom: 0.4em;background-color: white;}#sk-container-id-3 div.sk-label label {font-family: monospace;font-weight: bold;display: inline-block;line-height: 1.2em;}#sk-container-id-3 div.sk-label-container {text-align: center;}#sk-container-id-3 div.sk-container {/* jupyter's `normalize.less` sets `[hidden] { display: none; }` but bootstrap.min.css set `[hidden] { display: none !important; }` so we also need the `!important` here to be able to override the default hidden behavior on the sphinx rendered scikit-learn.org. See: https://github.com/scikit-learn/scikit-learn/issues/21755 */display: inline-block !important;position: relative;}#sk-container-id-3 div.sk-text-repr-fallback {display: none;}</style><div id=\"sk-container-id-3\" class=\"sk-top-container\"><div class=\"sk-text-repr-fallback\"><pre>LinearRegression()</pre><b>In a Jupyter environment, please rerun this cell to show the HTML representation or trust the notebook. <br />On GitHub, the HTML representation is unable to render, please try loading this page with nbviewer.org.</b></div><div class=\"sk-container\" hidden><div class=\"sk-item\"><div class=\"sk-estimator sk-toggleable\"><input class=\"sk-toggleable__control sk-hidden--visually\" id=\"sk-estimator-id-3\" type=\"checkbox\" checked><label for=\"sk-estimator-id-3\" class=\"sk-toggleable__label sk-toggleable__label-arrow\">LinearRegression</label><div class=\"sk-toggleable__content\"><pre>LinearRegression()</pre></div></div></div></div></div>"
      ],
      "text/plain": [
       "LinearRegression()"
      ]
     },
     "execution_count": 69,
     "metadata": {},
     "output_type": "execute_result"
    }
   ],
   "source": [
    "#Liner Regression\n",
    "from sklearn.linear_model import LinearRegression\n",
    "regressor = LinearRegression()  \n",
    "regressor.fit(X_train, y_train)"
   ]
  },
  {
   "cell_type": "code",
   "execution_count": 70,
   "id": "581604d6",
   "metadata": {},
   "outputs": [
    {
     "name": "stdout",
     "output_type": "stream",
     "text": [
      "2.930563662198021\n",
      "[-0.0114867  -0.0156624  -0.00697428 -0.017093    0.02258789  0.05606432\n",
      "  0.04594157  0.01699479]\n"
     ]
    }
   ],
   "source": [
    "#evaluate the model (intercept and slope)\n",
    "print(regressor.intercept_)\n",
    "print(regressor.coef_)"
   ]
  },
  {
   "cell_type": "code",
   "execution_count": 71,
   "id": "c418816f",
   "metadata": {},
   "outputs": [],
   "source": [
    "#predicting the test set result\n",
    "y_pred = regressor.predict(X_test)"
   ]
  },
  {
   "cell_type": "code",
   "execution_count": 72,
   "id": "649fc680",
   "metadata": {},
   "outputs": [
    {
     "data": {
      "text/html": [
       "<div>\n",
       "<style scoped>\n",
       "    .dataframe tbody tr th:only-of-type {\n",
       "        vertical-align: middle;\n",
       "    }\n",
       "\n",
       "    .dataframe tbody tr th {\n",
       "        vertical-align: top;\n",
       "    }\n",
       "\n",
       "    .dataframe thead th {\n",
       "        text-align: right;\n",
       "    }\n",
       "</style>\n",
       "<table border=\"1\" class=\"dataframe\">\n",
       "  <thead>\n",
       "    <tr style=\"text-align: right;\">\n",
       "      <th></th>\n",
       "      <th>Coefficient</th>\n",
       "    </tr>\n",
       "  </thead>\n",
       "  <tbody>\n",
       "    <tr>\n",
       "      <th>Плотность, кг/м3</th>\n",
       "      <td>-0.011487</td>\n",
       "    </tr>\n",
       "    <tr>\n",
       "      <th>Количество отвердителя, м.%</th>\n",
       "      <td>-0.015662</td>\n",
       "    </tr>\n",
       "    <tr>\n",
       "      <th>Содержание эпоксидных групп,%_2</th>\n",
       "      <td>-0.006974</td>\n",
       "    </tr>\n",
       "    <tr>\n",
       "      <th>Температура вспышки, С_2</th>\n",
       "      <td>-0.017093</td>\n",
       "    </tr>\n",
       "    <tr>\n",
       "      <th>Поверхностная плотность, г/м2</th>\n",
       "      <td>0.022588</td>\n",
       "    </tr>\n",
       "    <tr>\n",
       "      <th>Потребление смолы, г/м2</th>\n",
       "      <td>0.056064</td>\n",
       "    </tr>\n",
       "    <tr>\n",
       "      <th>Шаг нашивки</th>\n",
       "      <td>0.045942</td>\n",
       "    </tr>\n",
       "    <tr>\n",
       "      <th>Плотность нашивки</th>\n",
       "      <td>0.016995</td>\n",
       "    </tr>\n",
       "  </tbody>\n",
       "</table>\n",
       "</div>"
      ],
      "text/plain": [
       "                                 Coefficient\n",
       "Плотность, кг/м3                   -0.011487\n",
       "Количество отвердителя, м.%        -0.015662\n",
       "Содержание эпоксидных групп,%_2    -0.006974\n",
       "Температура вспышки, С_2           -0.017093\n",
       "Поверхностная плотность, г/м2       0.022588\n",
       "Потребление смолы, г/м2             0.056064\n",
       "Шаг нашивки                         0.045942\n",
       "Плотность нашивки                   0.016995"
      ]
     },
     "execution_count": 72,
     "metadata": {},
     "output_type": "execute_result"
    }
   ],
   "source": [
    "#put results as a DataFrame\n",
    "coeff_df = pd.DataFrame(regressor.coef_, X.columns, columns=['Coefficient'])  \n",
    "coeff_df"
   ]
  },
  {
   "cell_type": "code",
   "execution_count": 73,
   "id": "7a388723",
   "metadata": {},
   "outputs": [
    {
     "name": "stdout",
     "output_type": "stream",
     "text": [
      "Linear Regression Model:\n",
      "Train Score 0.01\n",
      "Train Score -0.01\n"
     ]
    }
   ],
   "source": [
    "#checking accuracy of Model\n",
    "print('Linear Regression Model:')\n",
    "print(\"Train Score {:.2f}\".format(regressor.score(X_train,y_train)))\n",
    "print(\"Train Score {:.2f}\".format(regressor.score(X_test, y_test)))"
   ]
  },
  {
   "cell_type": "markdown",
   "id": "bae129c0",
   "metadata": {},
   "source": [
    "Давайте сравним фактический выпуск и прогнозируемое значение:"
   ]
  },
  {
   "cell_type": "code",
   "execution_count": 74,
   "id": "80d47297",
   "metadata": {},
   "outputs": [
    {
     "data": {
      "text/html": [
       "<div>\n",
       "<style scoped>\n",
       "    .dataframe tbody tr th:only-of-type {\n",
       "        vertical-align: middle;\n",
       "    }\n",
       "\n",
       "    .dataframe tbody tr th {\n",
       "        vertical-align: top;\n",
       "    }\n",
       "\n",
       "    .dataframe thead th {\n",
       "        text-align: right;\n",
       "    }\n",
       "</style>\n",
       "<table border=\"1\" class=\"dataframe\">\n",
       "  <thead>\n",
       "    <tr style=\"text-align: right;\">\n",
       "      <th></th>\n",
       "      <th>Actual</th>\n",
       "      <th>Predicted</th>\n",
       "    </tr>\n",
       "  </thead>\n",
       "  <tbody>\n",
       "    <tr>\n",
       "      <th>722</th>\n",
       "      <td>2.781140</td>\n",
       "      <td>3.067588</td>\n",
       "    </tr>\n",
       "    <tr>\n",
       "      <th>77</th>\n",
       "      <td>3.711676</td>\n",
       "      <td>2.927869</td>\n",
       "    </tr>\n",
       "    <tr>\n",
       "      <th>877</th>\n",
       "      <td>1.626946</td>\n",
       "      <td>2.965009</td>\n",
       "    </tr>\n",
       "    <tr>\n",
       "      <th>613</th>\n",
       "      <td>3.165741</td>\n",
       "      <td>2.862837</td>\n",
       "    </tr>\n",
       "    <tr>\n",
       "      <th>903</th>\n",
       "      <td>3.582426</td>\n",
       "      <td>2.935746</td>\n",
       "    </tr>\n",
       "    <tr>\n",
       "      <th>531</th>\n",
       "      <td>2.505018</td>\n",
       "      <td>2.901189</td>\n",
       "    </tr>\n",
       "    <tr>\n",
       "      <th>399</th>\n",
       "      <td>1.273273</td>\n",
       "      <td>2.880253</td>\n",
       "    </tr>\n",
       "    <tr>\n",
       "      <th>452</th>\n",
       "      <td>2.086086</td>\n",
       "      <td>3.005691</td>\n",
       "    </tr>\n",
       "    <tr>\n",
       "      <th>31</th>\n",
       "      <td>2.916150</td>\n",
       "      <td>2.942708</td>\n",
       "    </tr>\n",
       "    <tr>\n",
       "      <th>356</th>\n",
       "      <td>1.165743</td>\n",
       "      <td>2.846704</td>\n",
       "    </tr>\n",
       "  </tbody>\n",
       "</table>\n",
       "</div>"
      ],
      "text/plain": [
       "       Actual  Predicted\n",
       "722  2.781140   3.067588\n",
       "77   3.711676   2.927869\n",
       "877  1.626946   2.965009\n",
       "613  3.165741   2.862837\n",
       "903  3.582426   2.935746\n",
       "531  2.505018   2.901189\n",
       "399  1.273273   2.880253\n",
       "452  2.086086   3.005691\n",
       "31   2.916150   2.942708\n",
       "356  1.165743   2.846704"
      ]
     },
     "execution_count": 74,
     "metadata": {},
     "output_type": "execute_result"
    }
   ],
   "source": [
    "#compare actual output values with predicted values\n",
    "df = pd.DataFrame({'Actual': y_test, 'Predicted': y_pred})\n",
    "df1 = df.head(10)\n",
    "df1"
   ]
  },
  {
   "cell_type": "code",
   "execution_count": 75,
   "id": "e314861d",
   "metadata": {},
   "outputs": [
    {
     "name": "stdout",
     "output_type": "stream",
     "text": [
      "MAE: 0.7542527077845887\n",
      "MSE: 0.8884146146338178\n",
      "RMSE: 0.9425574861162674\n"
     ]
    }
   ],
   "source": [
    "# evaluate the performance of the algorithm (MAE - MSE - RMSE)\n",
    "from sklearn import metrics\n",
    "print('MAE:', metrics.mean_absolute_error(y_test, y_pred))  \n",
    "print('MSE:', metrics.mean_squared_error(y_test, y_pred))  \n",
    "print('RMSE:', np.sqrt(metrics.mean_squared_error(y_test, y_pred)))"
   ]
  },
  {
   "cell_type": "code",
   "execution_count": 76,
   "id": "9d0d2df6",
   "metadata": {},
   "outputs": [
    {
     "name": "stdout",
     "output_type": "stream",
     "text": [
      "RMSE: 2511236483268930.0\n"
     ]
    }
   ],
   "source": [
    "linear_regression_model.fit(X, y)\n",
    "predictions = linear_regression_model.predict(X)\n",
    "mse = mean_squared_error(y, predictions) \n",
    "print(\"RMSE: {}\".format(np.sqrt(mse)))"
   ]
  },
  {
   "cell_type": "markdown",
   "id": "2063472c",
   "metadata": {},
   "source": [
    "## ИНТЕРПРЕТАЦИЯ???"
   ]
  },
  {
   "cell_type": "markdown",
   "id": "4d5b104c",
   "metadata": {},
   "source": []
  },
  {
   "cell_type": "code",
   "execution_count": null,
   "id": "1533a662",
   "metadata": {},
   "outputs": [],
   "source": []
  },
  {
   "cell_type": "markdown",
   "id": "671fb555",
   "metadata": {},
   "source": [
    "https://pythonru.com/uroki/linear-regression-sklearn"
   ]
  },
  {
   "cell_type": "code",
   "execution_count": 13,
   "id": "ef806c40",
   "metadata": {},
   "outputs": [],
   "source": [
    "from sklearn.linear_model import SGDRegressor\n",
    "from sklearn.metrics import mean_squared_error\n",
    "from sklearn.preprocessing import StandardScaler\n",
    "\n",
    "\n",
    "# SGDRegressor выполняет линейную регрессию с использованием градиентного спуска и принимает следующие аргументы:\n",
    "#tol(сообщает модели, когда следует прекратить итерацию) и eta0(начальная скорость обучения)."
   ]
  },
  {
   "cell_type": "code",
   "execution_count": 14,
   "id": "44ed870a",
   "metadata": {},
   "outputs": [
    {
     "data": {
      "text/html": [
       "<div>\n",
       "<style scoped>\n",
       "    .dataframe tbody tr th:only-of-type {\n",
       "        vertical-align: middle;\n",
       "    }\n",
       "\n",
       "    .dataframe tbody tr th {\n",
       "        vertical-align: top;\n",
       "    }\n",
       "\n",
       "    .dataframe thead th {\n",
       "        text-align: right;\n",
       "    }\n",
       "</style>\n",
       "<table border=\"1\" class=\"dataframe\">\n",
       "  <thead>\n",
       "    <tr style=\"text-align: right;\">\n",
       "      <th></th>\n",
       "      <th>Соотношение матрица-наполнитель</th>\n",
       "      <th>Плотность, кг/м3</th>\n",
       "      <th>модуль упругости, ГПа</th>\n",
       "      <th>Количество отвердителя, м.%</th>\n",
       "      <th>Содержание эпоксидных групп,%_2</th>\n",
       "      <th>Температура вспышки, С_2</th>\n",
       "      <th>Поверхностная плотность, г/м2</th>\n",
       "      <th>Модуль упругости при растяжении, ГПа</th>\n",
       "      <th>Прочность при растяжении, МПа</th>\n",
       "      <th>Потребление смолы, г/м2</th>\n",
       "      <th>Угол нашивки, град</th>\n",
       "      <th>Шаг нашивки</th>\n",
       "      <th>Плотность нашивки</th>\n",
       "    </tr>\n",
       "  </thead>\n",
       "  <tbody>\n",
       "    <tr>\n",
       "      <th>0</th>\n",
       "      <td>-1.188889</td>\n",
       "      <td>0.747809</td>\n",
       "      <td>0.000875</td>\n",
       "      <td>-2.188080</td>\n",
       "      <td>0.635993</td>\n",
       "      <td>-0.033538</td>\n",
       "      <td>-0.971213</td>\n",
       "      <td>-1.067467</td>\n",
       "      <td>1.103742</td>\n",
       "      <td>0.030743</td>\n",
       "      <td>-0.993017</td>\n",
       "      <td>-1.138008</td>\n",
       "      <td>0.229337</td>\n",
       "    </tr>\n",
       "    <tr>\n",
       "      <th>1</th>\n",
       "      <td>-1.188889</td>\n",
       "      <td>0.747809</td>\n",
       "      <td>0.000875</td>\n",
       "      <td>0.651525</td>\n",
       "      <td>-0.412787</td>\n",
       "      <td>0.348870</td>\n",
       "      <td>-0.971213</td>\n",
       "      <td>-1.067467</td>\n",
       "      <td>1.103742</td>\n",
       "      <td>0.030743</td>\n",
       "      <td>-0.993017</td>\n",
       "      <td>-0.747039</td>\n",
       "      <td>-0.868324</td>\n",
       "    </tr>\n",
       "    <tr>\n",
       "      <th>2</th>\n",
       "      <td>-0.182517</td>\n",
       "      <td>0.747809</td>\n",
       "      <td>0.044431</td>\n",
       "      <td>0.035439</td>\n",
       "      <td>0.014216</td>\n",
       "      <td>-0.033538</td>\n",
       "      <td>-0.971213</td>\n",
       "      <td>-1.067467</td>\n",
       "      <td>1.103742</td>\n",
       "      <td>0.030743</td>\n",
       "      <td>-0.993017</td>\n",
       "      <td>-0.747039</td>\n",
       "      <td>-0.023969</td>\n",
       "    </tr>\n",
       "    <tr>\n",
       "      <th>3</th>\n",
       "      <td>-0.186274</td>\n",
       "      <td>0.336444</td>\n",
       "      <td>0.029163</td>\n",
       "      <td>0.035439</td>\n",
       "      <td>0.014216</td>\n",
       "      <td>-0.033538</td>\n",
       "      <td>-0.971213</td>\n",
       "      <td>-1.067467</td>\n",
       "      <td>1.103742</td>\n",
       "      <td>0.030743</td>\n",
       "      <td>-0.993017</td>\n",
       "      <td>-0.747039</td>\n",
       "      <td>0.229337</td>\n",
       "    </tr>\n",
       "    <tr>\n",
       "      <th>4</th>\n",
       "      <td>-0.404568</td>\n",
       "      <td>-0.897652</td>\n",
       "      <td>0.209333</td>\n",
       "      <td>0.035439</td>\n",
       "      <td>0.014216</td>\n",
       "      <td>-0.033538</td>\n",
       "      <td>-0.971213</td>\n",
       "      <td>-1.067467</td>\n",
       "      <td>1.103742</td>\n",
       "      <td>0.030743</td>\n",
       "      <td>-0.993017</td>\n",
       "      <td>-0.747039</td>\n",
       "      <td>1.073692</td>\n",
       "    </tr>\n",
       "  </tbody>\n",
       "</table>\n",
       "</div>"
      ],
      "text/plain": [
       "   Соотношение матрица-наполнитель  Плотность, кг/м3  модуль упругости, ГПа  \\\n",
       "0                        -1.188889          0.747809               0.000875   \n",
       "1                        -1.188889          0.747809               0.000875   \n",
       "2                        -0.182517          0.747809               0.044431   \n",
       "3                        -0.186274          0.336444               0.029163   \n",
       "4                        -0.404568         -0.897652               0.209333   \n",
       "\n",
       "   Количество отвердителя, м.%  Содержание эпоксидных групп,%_2  \\\n",
       "0                    -2.188080                         0.635993   \n",
       "1                     0.651525                        -0.412787   \n",
       "2                     0.035439                         0.014216   \n",
       "3                     0.035439                         0.014216   \n",
       "4                     0.035439                         0.014216   \n",
       "\n",
       "   Температура вспышки, С_2  Поверхностная плотность, г/м2  \\\n",
       "0                 -0.033538                      -0.971213   \n",
       "1                  0.348870                      -0.971213   \n",
       "2                 -0.033538                      -0.971213   \n",
       "3                 -0.033538                      -0.971213   \n",
       "4                 -0.033538                      -0.971213   \n",
       "\n",
       "   Модуль упругости при растяжении, ГПа  Прочность при растяжении, МПа  \\\n",
       "0                             -1.067467                       1.103742   \n",
       "1                             -1.067467                       1.103742   \n",
       "2                             -1.067467                       1.103742   \n",
       "3                             -1.067467                       1.103742   \n",
       "4                             -1.067467                       1.103742   \n",
       "\n",
       "   Потребление смолы, г/м2  Угол нашивки, град  Шаг нашивки  Плотность нашивки  \n",
       "0                 0.030743           -0.993017    -1.138008           0.229337  \n",
       "1                 0.030743           -0.993017    -0.747039          -0.868324  \n",
       "2                 0.030743           -0.993017    -0.747039          -0.023969  \n",
       "3                 0.030743           -0.993017    -0.747039           0.229337  \n",
       "4                 0.030743           -0.993017    -0.747039           1.073692  "
      ]
     },
     "execution_count": 14,
     "metadata": {},
     "output_type": "execute_result"
    }
   ],
   "source": [
    "df = pd.read_csv(\"data/df_stand.csv\")\n",
    "df.drop(columns =['Unnamed: 0'], axis = 1, inplace = True)\n",
    "df.head()"
   ]
  },
  {
   "cell_type": "code",
   "execution_count": 15,
   "id": "0764ed2f",
   "metadata": {},
   "outputs": [],
   "source": [
    "X = df['Прочность при растяжении, МПа'].values.reshape(-1,1)\n",
    "y = df['Поверхностная плотность, г/м2'].values.reshape(-1,1)"
   ]
  },
  {
   "cell_type": "code",
   "execution_count": 16,
   "id": "23620bfb",
   "metadata": {},
   "outputs": [
    {
     "name": "stdout",
     "output_type": "stream",
     "text": [
      "RMSE: 0.9999829647064047\n"
     ]
    },
    {
     "name": "stderr",
     "output_type": "stream",
     "text": [
      "A:\\conda\\lib\\site-packages\\sklearn\\utils\\validation.py:1107: DataConversionWarning: A column-vector y was passed when a 1d array was expected. Please change the shape of y to (n_samples, ), for example using ravel().\n",
      "  y = column_or_1d(y, warn=True)\n"
     ]
    }
   ],
   "source": [
    "linear_regression_model = SGDRegressor(tol=.0001, eta0=.01) \n",
    "linear_regression_model.fit(X, y)\n",
    "predictions = linear_regression_model.predict(X)\n",
    "mse = mean_squared_error(y, predictions) \n",
    "print(\"RMSE: {}\".format(np.sqrt(mse)))"
   ]
  },
  {
   "cell_type": "code",
   "execution_count": 17,
   "id": "93a4e3e2",
   "metadata": {},
   "outputs": [],
   "source": [
    "# Без разбивки"
   ]
  },
  {
   "cell_type": "code",
   "execution_count": null,
   "id": "ba92aaef",
   "metadata": {},
   "outputs": [],
   "source": []
  },
  {
   "cell_type": "code",
   "execution_count": null,
   "id": "efff768e",
   "metadata": {},
   "outputs": [],
   "source": []
  },
  {
   "cell_type": "code",
   "execution_count": null,
   "id": "ef4bff5a",
   "metadata": {},
   "outputs": [],
   "source": []
  },
  {
   "cell_type": "code",
   "execution_count": null,
   "id": "5feaf762",
   "metadata": {},
   "outputs": [],
   "source": []
  },
  {
   "cell_type": "code",
   "execution_count": null,
   "id": "d123d7ad",
   "metadata": {},
   "outputs": [],
   "source": []
  },
  {
   "cell_type": "code",
   "execution_count": null,
   "id": "889a9065",
   "metadata": {},
   "outputs": [],
   "source": []
  },
  {
   "cell_type": "code",
   "execution_count": null,
   "id": "364f58f8",
   "metadata": {},
   "outputs": [],
   "source": [
    "X = df['Модуль упругости при растяжении, ГПа', 'Прочность при растяжении, МПа']\n",
    "y = df.drop['Модуль упругости при растяжении, ГПа', 'Прочность при растяжении, МПа', 'Угол нашивки, град']"
   ]
  },
  {
   "cell_type": "code",
   "execution_count": null,
   "id": "88041019",
   "metadata": {},
   "outputs": [],
   "source": []
  },
  {
   "cell_type": "code",
   "execution_count": null,
   "id": "7fb6617d",
   "metadata": {},
   "outputs": [],
   "source": []
  },
  {
   "cell_type": "code",
   "execution_count": null,
   "id": "d389f714",
   "metadata": {},
   "outputs": [],
   "source": []
  },
  {
   "cell_type": "code",
   "execution_count": 28,
   "id": "4ec30797",
   "metadata": {},
   "outputs": [
    {
     "data": {
      "text/html": [
       "<div>\n",
       "<style scoped>\n",
       "    .dataframe tbody tr th:only-of-type {\n",
       "        vertical-align: middle;\n",
       "    }\n",
       "\n",
       "    .dataframe tbody tr th {\n",
       "        vertical-align: top;\n",
       "    }\n",
       "\n",
       "    .dataframe thead th {\n",
       "        text-align: right;\n",
       "    }\n",
       "</style>\n",
       "<table border=\"1\" class=\"dataframe\">\n",
       "  <thead>\n",
       "    <tr style=\"text-align: right;\">\n",
       "      <th></th>\n",
       "      <th>Соотношение матрица-наполнитель</th>\n",
       "      <th>Плотность, кг/м3</th>\n",
       "      <th>модуль упругости, ГПа</th>\n",
       "      <th>Количество отвердителя, м.%</th>\n",
       "      <th>Содержание эпоксидных групп,%_2</th>\n",
       "      <th>Температура вспышки, С_2</th>\n",
       "      <th>Поверхностная плотность, г/м2</th>\n",
       "      <th>Модуль упругости при растяжении, ГПа</th>\n",
       "      <th>Прочность при растяжении, МПа</th>\n",
       "      <th>Потребление смолы, г/м2</th>\n",
       "      <th>Угол нашивки, град</th>\n",
       "      <th>Шаг нашивки</th>\n",
       "      <th>Плотность нашивки</th>\n",
       "    </tr>\n",
       "  </thead>\n",
       "  <tbody>\n",
       "    <tr>\n",
       "      <th>0</th>\n",
       "      <td>1.857143</td>\n",
       "      <td>2030.0</td>\n",
       "      <td>-0.003593</td>\n",
       "      <td>50.00</td>\n",
       "      <td>23.750000</td>\n",
       "      <td>284.615385</td>\n",
       "      <td>210.0</td>\n",
       "      <td>70.0</td>\n",
       "      <td>3000.0</td>\n",
       "      <td>220.0</td>\n",
       "      <td>0.0</td>\n",
       "      <td>4.0</td>\n",
       "      <td>60.0</td>\n",
       "    </tr>\n",
       "    <tr>\n",
       "      <th>1</th>\n",
       "      <td>1.857143</td>\n",
       "      <td>2030.0</td>\n",
       "      <td>-0.003593</td>\n",
       "      <td>129.00</td>\n",
       "      <td>21.250000</td>\n",
       "      <td>300.000000</td>\n",
       "      <td>210.0</td>\n",
       "      <td>70.0</td>\n",
       "      <td>3000.0</td>\n",
       "      <td>220.0</td>\n",
       "      <td>0.0</td>\n",
       "      <td>5.0</td>\n",
       "      <td>47.0</td>\n",
       "    </tr>\n",
       "    <tr>\n",
       "      <th>2</th>\n",
       "      <td>2.771331</td>\n",
       "      <td>2030.0</td>\n",
       "      <td>0.039599</td>\n",
       "      <td>111.86</td>\n",
       "      <td>22.267857</td>\n",
       "      <td>284.615385</td>\n",
       "      <td>210.0</td>\n",
       "      <td>70.0</td>\n",
       "      <td>3000.0</td>\n",
       "      <td>220.0</td>\n",
       "      <td>0.0</td>\n",
       "      <td>5.0</td>\n",
       "      <td>57.0</td>\n",
       "    </tr>\n",
       "    <tr>\n",
       "      <th>3</th>\n",
       "      <td>2.767918</td>\n",
       "      <td>2000.0</td>\n",
       "      <td>0.024458</td>\n",
       "      <td>111.86</td>\n",
       "      <td>22.267857</td>\n",
       "      <td>284.615385</td>\n",
       "      <td>210.0</td>\n",
       "      <td>70.0</td>\n",
       "      <td>3000.0</td>\n",
       "      <td>220.0</td>\n",
       "      <td>0.0</td>\n",
       "      <td>5.0</td>\n",
       "      <td>60.0</td>\n",
       "    </tr>\n",
       "    <tr>\n",
       "      <th>4</th>\n",
       "      <td>2.569620</td>\n",
       "      <td>1910.0</td>\n",
       "      <td>0.203120</td>\n",
       "      <td>111.86</td>\n",
       "      <td>22.267857</td>\n",
       "      <td>284.615385</td>\n",
       "      <td>210.0</td>\n",
       "      <td>70.0</td>\n",
       "      <td>3000.0</td>\n",
       "      <td>220.0</td>\n",
       "      <td>0.0</td>\n",
       "      <td>5.0</td>\n",
       "      <td>70.0</td>\n",
       "    </tr>\n",
       "  </tbody>\n",
       "</table>\n",
       "</div>"
      ],
      "text/plain": [
       "   Соотношение матрица-наполнитель  Плотность, кг/м3  модуль упругости, ГПа  \\\n",
       "0                         1.857143            2030.0              -0.003593   \n",
       "1                         1.857143            2030.0              -0.003593   \n",
       "2                         2.771331            2030.0               0.039599   \n",
       "3                         2.767918            2000.0               0.024458   \n",
       "4                         2.569620            1910.0               0.203120   \n",
       "\n",
       "   Количество отвердителя, м.%  Содержание эпоксидных групп,%_2  \\\n",
       "0                        50.00                        23.750000   \n",
       "1                       129.00                        21.250000   \n",
       "2                       111.86                        22.267857   \n",
       "3                       111.86                        22.267857   \n",
       "4                       111.86                        22.267857   \n",
       "\n",
       "   Температура вспышки, С_2  Поверхностная плотность, г/м2  \\\n",
       "0                284.615385                          210.0   \n",
       "1                300.000000                          210.0   \n",
       "2                284.615385                          210.0   \n",
       "3                284.615385                          210.0   \n",
       "4                284.615385                          210.0   \n",
       "\n",
       "   Модуль упругости при растяжении, ГПа  Прочность при растяжении, МПа  \\\n",
       "0                                  70.0                         3000.0   \n",
       "1                                  70.0                         3000.0   \n",
       "2                                  70.0                         3000.0   \n",
       "3                                  70.0                         3000.0   \n",
       "4                                  70.0                         3000.0   \n",
       "\n",
       "   Потребление смолы, г/м2  Угол нашивки, град  Шаг нашивки  Плотность нашивки  \n",
       "0                    220.0                 0.0          4.0               60.0  \n",
       "1                    220.0                 0.0          5.0               47.0  \n",
       "2                    220.0                 0.0          5.0               57.0  \n",
       "3                    220.0                 0.0          5.0               60.0  \n",
       "4                    220.0                 0.0          5.0               70.0  "
      ]
     },
     "execution_count": 28,
     "metadata": {},
     "output_type": "execute_result"
    }
   ],
   "source": [
    "data = pd.read_csv(\"data/after_3s.csv\")\n",
    "data.drop(columns =['Unnamed: 0'], axis = 1, inplace = True)\n",
    "data.head()"
   ]
  },
  {
   "cell_type": "code",
   "execution_count": 29,
   "id": "4d57da2a",
   "metadata": {},
   "outputs": [],
   "source": [
    "data['ln_Плотность'] = df['Плотность, кг/м3'].apply(np.log)\n",
    "data['ln_Прочность']= df['Прочность при растяжении, МПа'].apply(np.log)"
   ]
  },
  {
   "cell_type": "code",
   "execution_count": 30,
   "id": "3b74cb3e",
   "metadata": {},
   "outputs": [
    {
     "data": {
      "text/plain": [
       "0      0.708146\n",
       "1      0.708146\n",
       "2      0.708146\n",
       "3      0.707182\n",
       "4      0.704182\n",
       "         ...   \n",
       "994    0.705605\n",
       "995    0.708782\n",
       "996    0.706278\n",
       "997    0.709306\n",
       "998    0.703506\n",
       "Name: ln_Плотность, Length: 999, dtype: float64"
      ]
     },
     "execution_count": 30,
     "metadata": {},
     "output_type": "execute_result"
    }
   ],
   "source": [
    "data['ln_Плотность']"
   ]
  },
  {
   "cell_type": "code",
   "execution_count": 36,
   "id": "89ff3ef9",
   "metadata": {},
   "outputs": [
    {
     "ename": "TypeError",
     "evalue": "from_formula() missing 1 required positional argument: 'formula'",
     "output_type": "error",
     "traceback": [
      "\u001b[1;31m---------------------------------------------------------------------------\u001b[0m",
      "\u001b[1;31mTypeError\u001b[0m                                 Traceback (most recent call last)",
      "\u001b[1;32m~\\AppData\\Local\\Temp/ipykernel_13016/4197259621.py\u001b[0m in \u001b[0;36m<module>\u001b[1;34m\u001b[0m\n\u001b[0;32m      3\u001b[0m \u001b[1;32mfrom\u001b[0m \u001b[0mstatsmodels\u001b[0m\u001b[1;33m.\u001b[0m\u001b[0mformula\u001b[0m\u001b[1;33m.\u001b[0m\u001b[0mapi\u001b[0m \u001b[1;32mimport\u001b[0m \u001b[0mols\u001b[0m\u001b[1;33m\u001b[0m\u001b[1;33m\u001b[0m\u001b[0m\n\u001b[0;32m      4\u001b[0m \u001b[1;33m\u001b[0m\u001b[0m\n\u001b[1;32m----> 5\u001b[1;33m \u001b[0mlm\u001b[0m \u001b[1;33m=\u001b[0m \u001b[0mols\u001b[0m\u001b[1;33m(\u001b[0m\u001b[0mfolmula\u001b[0m \u001b[1;33m=\u001b[0m \u001b[1;34m'ln_Плотность~ln_Прочность'\u001b[0m\u001b[1;33m,\u001b[0m \u001b[0mdata\u001b[0m \u001b[1;33m=\u001b[0m \u001b[0mdata\u001b[0m\u001b[1;33m)\u001b[0m\u001b[1;33m.\u001b[0m\u001b[0mFIT\u001b[0m\u001b[1;33m(\u001b[0m\u001b[1;33m)\u001b[0m\u001b[1;33m\u001b[0m\u001b[1;33m\u001b[0m\u001b[0m\n\u001b[0m\u001b[0;32m      6\u001b[0m \u001b[0mres\u001b[0m \u001b[1;33m=\u001b[0m \u001b[0mlm\u001b[0m\u001b[1;33m.\u001b[0m\u001b[0mfit\u001b[0m\u001b[1;33m(\u001b[0m\u001b[1;33m)\u001b[0m\u001b[1;33m\u001b[0m\u001b[1;33m\u001b[0m\u001b[0m\n",
      "\u001b[1;31mTypeError\u001b[0m: from_formula() missing 1 required positional argument: 'formula'"
     ]
    }
   ],
   "source": [
    "import statsmodels.api as sm\n",
    "\n",
    "from statsmodels.formula.api import ols\n",
    "\n",
    "lm = ols(folmula = 'ln_Плотность~ln_Прочность', data = data).FIT()\n",
    "res = lm.fit()"
   ]
  },
  {
   "cell_type": "code",
   "execution_count": null,
   "id": "dbaa66fe",
   "metadata": {},
   "outputs": [],
   "source": []
  },
  {
   "cell_type": "code",
   "execution_count": null,
   "id": "da3f644f",
   "metadata": {},
   "outputs": [],
   "source": []
  }
 ],
 "metadata": {
  "kernelspec": {
   "display_name": "Python 3 (ipykernel)",
   "language": "python",
   "name": "python3"
  },
  "language_info": {
   "codemirror_mode": {
    "name": "ipython",
    "version": 3
   },
   "file_extension": ".py",
   "mimetype": "text/x-python",
   "name": "python",
   "nbconvert_exporter": "python",
   "pygments_lexer": "ipython3",
   "version": "3.9.7"
  }
 },
 "nbformat": 4,
 "nbformat_minor": 5
}
