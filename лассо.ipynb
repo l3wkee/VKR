{
 "cells": [
  {
   "cell_type": "code",
   "execution_count": 18,
   "id": "f326fb9e",
   "metadata": {},
   "outputs": [],
   "source": [
    "import numpy as np\n",
    "import pylab\n",
    "import seaborn as sns\n",
    "import statsmodels.api as sm\n",
    "import pandas as pd\n",
    "import matplotlib.pyplot as plt\n",
    "\n",
    "sns.set_style(\"darkgrid\")\n",
    "pylab.rc(\"figure\", figsize=(16, 8))\n",
    "pylab.rc(\"font\", size=14)"
   ]
  },
  {
   "cell_type": "code",
   "execution_count": 2,
   "id": "4537e999",
   "metadata": {},
   "outputs": [
    {
     "data": {
      "text/html": [
       "<div>\n",
       "<style scoped>\n",
       "    .dataframe tbody tr th:only-of-type {\n",
       "        vertical-align: middle;\n",
       "    }\n",
       "\n",
       "    .dataframe tbody tr th {\n",
       "        vertical-align: top;\n",
       "    }\n",
       "\n",
       "    .dataframe thead th {\n",
       "        text-align: right;\n",
       "    }\n",
       "</style>\n",
       "<table border=\"1\" class=\"dataframe\">\n",
       "  <thead>\n",
       "    <tr style=\"text-align: right;\">\n",
       "      <th></th>\n",
       "      <th>Соотношение матрица-наполнитель</th>\n",
       "      <th>Плотность, кг/м3</th>\n",
       "      <th>модуль упругости, ГПа</th>\n",
       "      <th>Количество отвердителя, м.%</th>\n",
       "      <th>Содержание эпоксидных групп,%_2</th>\n",
       "      <th>Температура вспышки, С_2</th>\n",
       "      <th>Поверхностная плотность, г/м2</th>\n",
       "      <th>Модуль упругости при растяжении, ГПа</th>\n",
       "      <th>Прочность при растяжении, МПа</th>\n",
       "      <th>Потребление смолы, г/м2</th>\n",
       "      <th>Угол нашивки, град</th>\n",
       "      <th>Шаг нашивки</th>\n",
       "      <th>Плотность нашивки</th>\n",
       "    </tr>\n",
       "  </thead>\n",
       "  <tbody>\n",
       "    <tr>\n",
       "      <th>0</th>\n",
       "      <td>-1.188889</td>\n",
       "      <td>0.747809</td>\n",
       "      <td>0.000875</td>\n",
       "      <td>-2.188080</td>\n",
       "      <td>0.635993</td>\n",
       "      <td>-0.033538</td>\n",
       "      <td>-0.971213</td>\n",
       "      <td>-1.067467</td>\n",
       "      <td>1.103742</td>\n",
       "      <td>0.030743</td>\n",
       "      <td>-0.993017</td>\n",
       "      <td>-1.138008</td>\n",
       "      <td>0.229337</td>\n",
       "    </tr>\n",
       "    <tr>\n",
       "      <th>1</th>\n",
       "      <td>-1.188889</td>\n",
       "      <td>0.747809</td>\n",
       "      <td>0.000875</td>\n",
       "      <td>0.651525</td>\n",
       "      <td>-0.412787</td>\n",
       "      <td>0.348870</td>\n",
       "      <td>-0.971213</td>\n",
       "      <td>-1.067467</td>\n",
       "      <td>1.103742</td>\n",
       "      <td>0.030743</td>\n",
       "      <td>-0.993017</td>\n",
       "      <td>-0.747039</td>\n",
       "      <td>-0.868324</td>\n",
       "    </tr>\n",
       "    <tr>\n",
       "      <th>2</th>\n",
       "      <td>-0.182517</td>\n",
       "      <td>0.747809</td>\n",
       "      <td>0.044431</td>\n",
       "      <td>0.035439</td>\n",
       "      <td>0.014216</td>\n",
       "      <td>-0.033538</td>\n",
       "      <td>-0.971213</td>\n",
       "      <td>-1.067467</td>\n",
       "      <td>1.103742</td>\n",
       "      <td>0.030743</td>\n",
       "      <td>-0.993017</td>\n",
       "      <td>-0.747039</td>\n",
       "      <td>-0.023969</td>\n",
       "    </tr>\n",
       "    <tr>\n",
       "      <th>3</th>\n",
       "      <td>-0.186274</td>\n",
       "      <td>0.336444</td>\n",
       "      <td>0.029163</td>\n",
       "      <td>0.035439</td>\n",
       "      <td>0.014216</td>\n",
       "      <td>-0.033538</td>\n",
       "      <td>-0.971213</td>\n",
       "      <td>-1.067467</td>\n",
       "      <td>1.103742</td>\n",
       "      <td>0.030743</td>\n",
       "      <td>-0.993017</td>\n",
       "      <td>-0.747039</td>\n",
       "      <td>0.229337</td>\n",
       "    </tr>\n",
       "    <tr>\n",
       "      <th>4</th>\n",
       "      <td>-0.404568</td>\n",
       "      <td>-0.897652</td>\n",
       "      <td>0.209333</td>\n",
       "      <td>0.035439</td>\n",
       "      <td>0.014216</td>\n",
       "      <td>-0.033538</td>\n",
       "      <td>-0.971213</td>\n",
       "      <td>-1.067467</td>\n",
       "      <td>1.103742</td>\n",
       "      <td>0.030743</td>\n",
       "      <td>-0.993017</td>\n",
       "      <td>-0.747039</td>\n",
       "      <td>1.073692</td>\n",
       "    </tr>\n",
       "  </tbody>\n",
       "</table>\n",
       "</div>"
      ],
      "text/plain": [
       "   Соотношение матрица-наполнитель  Плотность, кг/м3  модуль упругости, ГПа  \\\n",
       "0                        -1.188889          0.747809               0.000875   \n",
       "1                        -1.188889          0.747809               0.000875   \n",
       "2                        -0.182517          0.747809               0.044431   \n",
       "3                        -0.186274          0.336444               0.029163   \n",
       "4                        -0.404568         -0.897652               0.209333   \n",
       "\n",
       "   Количество отвердителя, м.%  Содержание эпоксидных групп,%_2  \\\n",
       "0                    -2.188080                         0.635993   \n",
       "1                     0.651525                        -0.412787   \n",
       "2                     0.035439                         0.014216   \n",
       "3                     0.035439                         0.014216   \n",
       "4                     0.035439                         0.014216   \n",
       "\n",
       "   Температура вспышки, С_2  Поверхностная плотность, г/м2  \\\n",
       "0                 -0.033538                      -0.971213   \n",
       "1                  0.348870                      -0.971213   \n",
       "2                 -0.033538                      -0.971213   \n",
       "3                 -0.033538                      -0.971213   \n",
       "4                 -0.033538                      -0.971213   \n",
       "\n",
       "   Модуль упругости при растяжении, ГПа  Прочность при растяжении, МПа  \\\n",
       "0                             -1.067467                       1.103742   \n",
       "1                             -1.067467                       1.103742   \n",
       "2                             -1.067467                       1.103742   \n",
       "3                             -1.067467                       1.103742   \n",
       "4                             -1.067467                       1.103742   \n",
       "\n",
       "   Потребление смолы, г/м2  Угол нашивки, град  Шаг нашивки  Плотность нашивки  \n",
       "0                 0.030743           -0.993017    -1.138008           0.229337  \n",
       "1                 0.030743           -0.993017    -0.747039          -0.868324  \n",
       "2                 0.030743           -0.993017    -0.747039          -0.023969  \n",
       "3                 0.030743           -0.993017    -0.747039           0.229337  \n",
       "4                 0.030743           -0.993017    -0.747039           1.073692  "
      ]
     },
     "execution_count": 2,
     "metadata": {},
     "output_type": "execute_result"
    }
   ],
   "source": [
    "df = pd.read_csv(\"data/df_stand.csv\")\n",
    "df.drop(columns =['Unnamed: 0'], axis = 1, inplace = True)\n",
    "df.head()\n"
   ]
  },
  {
   "cell_type": "code",
   "execution_count": 3,
   "id": "25b564c0",
   "metadata": {},
   "outputs": [],
   "source": [
    "X = df['Плотность, кг/м3']\n",
    "y = df['Соотношение матрица-наполнитель']"
   ]
  },
  {
   "cell_type": "code",
   "execution_count": 5,
   "id": "1d14b6da",
   "metadata": {},
   "outputs": [],
   "source": [
    "x = X"
   ]
  },
  {
   "cell_type": "code",
   "execution_count": 45,
   "id": "1fd656cf",
   "metadata": {},
   "outputs": [
    {
     "data": {
      "text/plain": [
       "0     -1.188889\n",
       "1     -1.188889\n",
       "2     -0.182517\n",
       "3     -0.186274\n",
       "4     -0.404568\n",
       "         ...   \n",
       "994   -0.732919\n",
       "995    0.558007\n",
       "996    0.378110\n",
       "997    0.845687\n",
       "998    0.958709\n",
       "Name: Соотношение матрица-наполнитель, Length: 999, dtype: float64"
      ]
     },
     "execution_count": 45,
     "metadata": {},
     "output_type": "execute_result"
    }
   ],
   "source": [
    "y"
   ]
  },
  {
   "cell_type": "code",
   "execution_count": null,
   "id": "9594a944",
   "metadata": {},
   "outputs": [],
   "source": []
  },
  {
   "cell_type": "code",
   "execution_count": 6,
   "id": "cf6e1882",
   "metadata": {},
   "outputs": [],
   "source": [
    "smoothed = sm.nonparametric.lowess(exog=x, endog=y, frac=0.2)"
   ]
  },
  {
   "cell_type": "code",
   "execution_count": 7,
   "id": "47194432",
   "metadata": {},
   "outputs": [
    {
     "data": {
      "image/png": "[encoded data removed]",
      "text/plain": [
       "<Figure size 1152x576 with 1 Axes>"
      ]
     },
     "metadata": {},
     "output_type": "display_data"
    }
   ],
   "source": [
    "fig, ax = pylab.subplots()\n",
    "\n",
    "ax.scatter(x, y)\n",
    "ax.plot(smoothed[:, 0], smoothed[:, 1], c=\"k\")\n",
    "pylab.autoscale(enable=True, axis=\"x\", tight=True)"
   ]
  },
  {
   "cell_type": "markdown",
   "id": "5b456c8f",
   "metadata": {},
   "source": [
    "https://www.statsmodels.org/stable/examples/notebooks/generated/lowess.html"
   ]
  },
  {
   "cell_type": "markdown",
   "id": "2aab7b78",
   "metadata": {},
   "source": [
    " # ЛИНЕЙНАЯ"
   ]
  },
  {
   "cell_type": "code",
   "execution_count": 42,
   "id": "f7202643",
   "metadata": {},
   "outputs": [],
   "source": [
    "Xs = df['Плотность, кг/м3'].values.reshape(-1,1)"
   ]
  },
  {
   "cell_type": "code",
   "execution_count": 43,
   "id": "8e372348",
   "metadata": {},
   "outputs": [],
   "source": [
    "y = df['Соотношение матрица-наполнитель'].values.reshape(-1,1)"
   ]
  },
  {
   "cell_type": "code",
   "execution_count": 44,
   "id": "544994e1",
   "metadata": {},
   "outputs": [],
   "source": [
    "from sklearn.model_selection import cross_val_score\n",
    "from sklearn.linear_model import LinearRegression"
   ]
  },
  {
   "cell_type": "code",
   "execution_count": 45,
   "id": "8e4775ff",
   "metadata": {},
   "outputs": [],
   "source": [
    "lin_reg = LinearRegression()"
   ]
  },
  {
   "cell_type": "code",
   "execution_count": 48,
   "id": "a566ed61",
   "metadata": {},
   "outputs": [],
   "source": [
    "MSEs = cross_val_score(lin_reg, Xs, y, scoring = 'neg_mean_squared_error', cv = 5)"
   ]
  },
  {
   "cell_type": "code",
   "execution_count": 49,
   "id": "66a8e422",
   "metadata": {},
   "outputs": [],
   "source": [
    "mean_MSE = np.mean(MSEs)"
   ]
  },
  {
   "cell_type": "code",
   "execution_count": 50,
   "id": "010c1921",
   "metadata": {},
   "outputs": [
    {
     "data": {
      "text/plain": [
       "-1.0027186097436922"
      ]
     },
     "execution_count": 50,
     "metadata": {},
     "output_type": "execute_result"
    }
   ],
   "source": [
    "mean_MSE"
   ]
  },
  {
   "cell_type": "code",
   "execution_count": null,
   "id": "92c1ac9f",
   "metadata": {},
   "outputs": [],
   "source": []
  },
  {
   "cell_type": "code",
   "execution_count": null,
   "id": "05609f37",
   "metadata": {},
   "outputs": [],
   "source": []
  },
  {
   "cell_type": "markdown",
   "id": "9fd1b5fc",
   "metadata": {},
   "source": [
    "# GridSearchCV"
   ]
  },
  {
   "cell_type": "code",
   "execution_count": 52,
   "id": "672f2d8f",
   "metadata": {},
   "outputs": [],
   "source": [
    "from sklearn.model_selection import GridSearchCV\n",
    "from sklearn.linear_model import Ridge"
   ]
  },
  {
   "cell_type": "code",
   "execution_count": 54,
   "id": "412436b0",
   "metadata": {},
   "outputs": [],
   "source": [
    "ridge = Ridge()"
   ]
  },
  {
   "cell_type": "code",
   "execution_count": null,
   "id": "3c8c8927",
   "metadata": {},
   "outputs": [],
   "source": []
  }
 ],
 "metadata": {
  "kernelspec": {
   "display_name": "Python 3 (ipykernel)",
   "language": "python",
   "name": "python3"
  },
  "language_info": {
   "codemirror_mode": {
    "name": "ipython",
    "version": 3
   },
   "file_extension": ".py",
   "mimetype": "text/x-python",
   "name": "python",
   "nbconvert_exporter": "python",
   "pygments_lexer": "ipython3",
   "version": "3.9.7"
  }
 },
 "nbformat": 4,
 "nbformat_minor": 5
}
