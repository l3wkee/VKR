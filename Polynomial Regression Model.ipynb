{
 "cells": [
  {
   "cell_type": "markdown",
   "id": "aaddf55c",
   "metadata": {},
   "source": [
    "## Полиномиальная регрессия"
   ]
  },
  {
   "cell_type": "code",
   "execution_count": 31,
   "id": "433849ff",
   "metadata": {},
   "outputs": [],
   "source": [
    "import pandas as pd\n",
    "import matplotlib.pyplot as plt\n",
    "import numpy as np\n",
    "from sklearn.linear_model import LinearRegression"
   ]
  },
  {
   "cell_type": "code",
   "execution_count": 32,
   "id": "ebf11a2e",
   "metadata": {},
   "outputs": [
    {
     "data": {
      "text/html": [
       "<div>\n",
       "<style scoped>\n",
       "    .dataframe tbody tr th:only-of-type {\n",
       "        vertical-align: middle;\n",
       "    }\n",
       "\n",
       "    .dataframe tbody tr th {\n",
       "        vertical-align: top;\n",
       "    }\n",
       "\n",
       "    .dataframe thead th {\n",
       "        text-align: right;\n",
       "    }\n",
       "</style>\n",
       "<table border=\"1\" class=\"dataframe\">\n",
       "  <thead>\n",
       "    <tr style=\"text-align: right;\">\n",
       "      <th></th>\n",
       "      <th>Соотношение матрица-наполнитель</th>\n",
       "      <th>Плотность, кг/м3</th>\n",
       "      <th>модуль упругости, ГПа</th>\n",
       "      <th>Количество отвердителя, м.%</th>\n",
       "      <th>Содержание эпоксидных групп,%_2</th>\n",
       "      <th>Температура вспышки, С_2</th>\n",
       "      <th>Поверхностная плотность, г/м2</th>\n",
       "      <th>Модуль упругости при растяжении, ГПа</th>\n",
       "      <th>Прочность при растяжении, МПа</th>\n",
       "      <th>Потребление смолы, г/м2</th>\n",
       "      <th>Угол нашивки, град</th>\n",
       "      <th>Шаг нашивки</th>\n",
       "      <th>Плотность нашивки</th>\n",
       "    </tr>\n",
       "  </thead>\n",
       "  <tbody>\n",
       "    <tr>\n",
       "      <th>0</th>\n",
       "      <td>1.857143</td>\n",
       "      <td>2030.0</td>\n",
       "      <td>-0.003593</td>\n",
       "      <td>50.00</td>\n",
       "      <td>23.750000</td>\n",
       "      <td>284.615385</td>\n",
       "      <td>210.0</td>\n",
       "      <td>70.0</td>\n",
       "      <td>3000.0</td>\n",
       "      <td>220.0</td>\n",
       "      <td>0.0</td>\n",
       "      <td>4.0</td>\n",
       "      <td>60.0</td>\n",
       "    </tr>\n",
       "    <tr>\n",
       "      <th>1</th>\n",
       "      <td>1.857143</td>\n",
       "      <td>2030.0</td>\n",
       "      <td>-0.003593</td>\n",
       "      <td>129.00</td>\n",
       "      <td>21.250000</td>\n",
       "      <td>300.000000</td>\n",
       "      <td>210.0</td>\n",
       "      <td>70.0</td>\n",
       "      <td>3000.0</td>\n",
       "      <td>220.0</td>\n",
       "      <td>0.0</td>\n",
       "      <td>5.0</td>\n",
       "      <td>47.0</td>\n",
       "    </tr>\n",
       "    <tr>\n",
       "      <th>2</th>\n",
       "      <td>2.771331</td>\n",
       "      <td>2030.0</td>\n",
       "      <td>0.039599</td>\n",
       "      <td>111.86</td>\n",
       "      <td>22.267857</td>\n",
       "      <td>284.615385</td>\n",
       "      <td>210.0</td>\n",
       "      <td>70.0</td>\n",
       "      <td>3000.0</td>\n",
       "      <td>220.0</td>\n",
       "      <td>0.0</td>\n",
       "      <td>5.0</td>\n",
       "      <td>57.0</td>\n",
       "    </tr>\n",
       "    <tr>\n",
       "      <th>3</th>\n",
       "      <td>2.767918</td>\n",
       "      <td>2000.0</td>\n",
       "      <td>0.024458</td>\n",
       "      <td>111.86</td>\n",
       "      <td>22.267857</td>\n",
       "      <td>284.615385</td>\n",
       "      <td>210.0</td>\n",
       "      <td>70.0</td>\n",
       "      <td>3000.0</td>\n",
       "      <td>220.0</td>\n",
       "      <td>0.0</td>\n",
       "      <td>5.0</td>\n",
       "      <td>60.0</td>\n",
       "    </tr>\n",
       "    <tr>\n",
       "      <th>4</th>\n",
       "      <td>2.569620</td>\n",
       "      <td>1910.0</td>\n",
       "      <td>0.203120</td>\n",
       "      <td>111.86</td>\n",
       "      <td>22.267857</td>\n",
       "      <td>284.615385</td>\n",
       "      <td>210.0</td>\n",
       "      <td>70.0</td>\n",
       "      <td>3000.0</td>\n",
       "      <td>220.0</td>\n",
       "      <td>0.0</td>\n",
       "      <td>5.0</td>\n",
       "      <td>70.0</td>\n",
       "    </tr>\n",
       "  </tbody>\n",
       "</table>\n",
       "</div>"
      ],
      "text/plain": [
       "   Соотношение матрица-наполнитель  Плотность, кг/м3  модуль упругости, ГПа  \\\n",
       "0                         1.857143            2030.0              -0.003593   \n",
       "1                         1.857143            2030.0              -0.003593   \n",
       "2                         2.771331            2030.0               0.039599   \n",
       "3                         2.767918            2000.0               0.024458   \n",
       "4                         2.569620            1910.0               0.203120   \n",
       "\n",
       "   Количество отвердителя, м.%  Содержание эпоксидных групп,%_2  \\\n",
       "0                        50.00                        23.750000   \n",
       "1                       129.00                        21.250000   \n",
       "2                       111.86                        22.267857   \n",
       "3                       111.86                        22.267857   \n",
       "4                       111.86                        22.267857   \n",
       "\n",
       "   Температура вспышки, С_2  Поверхностная плотность, г/м2  \\\n",
       "0                284.615385                          210.0   \n",
       "1                300.000000                          210.0   \n",
       "2                284.615385                          210.0   \n",
       "3                284.615385                          210.0   \n",
       "4                284.615385                          210.0   \n",
       "\n",
       "   Модуль упругости при растяжении, ГПа  Прочность при растяжении, МПа  \\\n",
       "0                                  70.0                         3000.0   \n",
       "1                                  70.0                         3000.0   \n",
       "2                                  70.0                         3000.0   \n",
       "3                                  70.0                         3000.0   \n",
       "4                                  70.0                         3000.0   \n",
       "\n",
       "   Потребление смолы, г/м2  Угол нашивки, град  Шаг нашивки  Плотность нашивки  \n",
       "0                    220.0                 0.0          4.0               60.0  \n",
       "1                    220.0                 0.0          5.0               47.0  \n",
       "2                    220.0                 0.0          5.0               57.0  \n",
       "3                    220.0                 0.0          5.0               60.0  \n",
       "4                    220.0                 0.0          5.0               70.0  "
      ]
     },
     "execution_count": 32,
     "metadata": {},
     "output_type": "execute_result"
    }
   ],
   "source": [
    "df = pd.read_csv(\"data/after_3s.csv\")\n",
    "df.drop(columns =['Unnamed: 0'], axis = 1, inplace = True)\n",
    "df.head()"
   ]
  },
  {
   "cell_type": "code",
   "execution_count": 3,
   "id": "cfeac96a",
   "metadata": {},
   "outputs": [
    {
     "data": {
      "text/plain": [
       "Index(['Соотношение матрица-наполнитель', 'Плотность, кг/м3',\n",
       "       'модуль упругости, ГПа', 'Количество отвердителя, м.%',\n",
       "       'Содержание эпоксидных групп,%_2', 'Температура вспышки, С_2',\n",
       "       'Поверхностная плотность, г/м2', 'Модуль упругости при растяжении, ГПа',\n",
       "       'Прочность при растяжении, МПа', 'Потребление смолы, г/м2',\n",
       "       'Угол нашивки, град', 'Шаг нашивки', 'Плотность нашивки'],\n",
       "      dtype='object')"
      ]
     },
     "execution_count": 3,
     "metadata": {},
     "output_type": "execute_result"
    }
   ],
   "source": [
    "df.columns"
   ]
  },
  {
   "cell_type": "code",
   "execution_count": 4,
   "id": "1f1d703a",
   "metadata": {},
   "outputs": [],
   "source": [
    "# PolynomialFeatures\n",
    "from sklearn.preprocessing import PolynomialFeatures\n",
    "X = df.drop(['Соотношение матрица-наполнитель', 'Угол нашивки, град','Модуль упругости при растяжении, ГПа',\n",
    "             'модуль упругости, ГПа', 'Прочность при растяжении, МПа'],axis = 1)\n",
    "y = df['Соотношение матрица-наполнитель']"
   ]
  },
  {
   "cell_type": "code",
   "execution_count": 5,
   "id": "7148287c",
   "metadata": {},
   "outputs": [
    {
     "data": {
      "text/plain": [
       "Index(['Плотность, кг/м3', 'Количество отвердителя, м.%',\n",
       "       'Содержание эпоксидных групп,%_2', 'Температура вспышки, С_2',\n",
       "       'Поверхностная плотность, г/м2', 'Потребление смолы, г/м2',\n",
       "       'Шаг нашивки', 'Плотность нашивки'],\n",
       "      dtype='object')"
      ]
     },
     "execution_count": 5,
     "metadata": {},
     "output_type": "execute_result"
    }
   ],
   "source": [
    "X.columns"
   ]
  },
  {
   "cell_type": "code",
   "execution_count": 6,
   "id": "6350fc89",
   "metadata": {},
   "outputs": [
    {
     "data": {
      "text/plain": [
       "'Соотношение матрица-наполнитель'"
      ]
     },
     "execution_count": 6,
     "metadata": {},
     "output_type": "execute_result"
    }
   ],
   "source": [
    "y.name"
   ]
  },
  {
   "cell_type": "code",
   "execution_count": 8,
   "id": "d5dab77b",
   "metadata": {},
   "outputs": [],
   "source": [
    "#splitting Train and Test \n",
    "from sklearn.model_selection import train_test_split\n"
   ]
  },
  {
   "cell_type": "code",
   "execution_count": 9,
   "id": "b4c03a94",
   "metadata": {},
   "outputs": [],
   "source": [
    "#training the simple Linear Regression model on the training set\n",
    "poly = PolynomialFeatures (degree = 2)\n",
    "X_poly = poly.fit_transform(X)\n",
    "X_train,X_test,y_train,y_test = train_test_split(X_poly,y, test_size = 0.30, random_state = 0)"
   ]
  },
  {
   "cell_type": "code",
   "execution_count": 10,
   "id": "3d9b5f53",
   "metadata": {},
   "outputs": [
    {
     "name": "stderr",
     "output_type": "stream",
     "text": [
      "C:\\Users\\vagid\\AppData\\Local\\Temp/ipykernel_6264/1104923244.py:4: DeprecationWarning: `np.float` is a deprecated alias for the builtin `float`. To silence this warning, use `float` by itself. Doing this will not modify any behavior and is safe. If you specifically wanted the numpy scalar type, use `np.float64` here.\n",
      "Deprecated in NumPy 1.20; for more details and guidance: https://numpy.org/devdocs/release/1.20.0-notes.html#deprecations\n",
      "  X_train = sc.fit_transform(X_train.astype(np.float))\n",
      "C:\\Users\\vagid\\AppData\\Local\\Temp/ipykernel_6264/1104923244.py:5: DeprecationWarning: `np.float` is a deprecated alias for the builtin `float`. To silence this warning, use `float` by itself. Doing this will not modify any behavior and is safe. If you specifically wanted the numpy scalar type, use `np.float64` here.\n",
      "Deprecated in NumPy 1.20; for more details and guidance: https://numpy.org/devdocs/release/1.20.0-notes.html#deprecations\n",
      "  X_test= sc.transform(X_test.astype(np.float))\n"
     ]
    }
   ],
   "source": [
    "#standard scaler (fit transform on train, fit only on test)\n",
    "from sklearn.preprocessing import StandardScaler\n",
    "sc = StandardScaler()\n",
    "X_train = sc.fit_transform(X_train.astype(np.float))\n",
    "X_test= sc.transform(X_test.astype(np.float))"
   ]
  },
  {
   "cell_type": "code",
   "execution_count": 11,
   "id": "9497ce80",
   "metadata": {},
   "outputs": [],
   "source": [
    "#fit and predict model\n",
    "poly_lr = LinearRegression().fit(X_train,y_train)\n",
    "y_pred = poly_lr.predict(X_test)"
   ]
  },
  {
   "cell_type": "code",
   "execution_count": 12,
   "id": "5b7081a0",
   "metadata": {},
   "outputs": [
    {
     "name": "stdout",
     "output_type": "stream",
     "text": [
      "Polynomial Regression Model:\n",
      "Train Score 0.04\n",
      "Test Score 0.01\n"
     ]
    }
   ],
   "source": [
    "#checking accuracy of Polynomial Regression Model\n",
    "print('Polynomial Regression Model:')\n",
    "print(\"Train Score {:.2f}\".format(poly_lr.score(X_train,y_train)))\n",
    "print(\"Test Score {:.2f}\".format(poly_lr.score(X_test, y_test)))"
   ]
  },
  {
   "cell_type": "markdown",
   "id": "433e2d97",
   "metadata": {},
   "source": [
    "## Polynomial Regression Model:\n",
    "# Train Score 0.05--- 5%\n",
    "# Test Score -0.02--- что значит \"-\"?)"
   ]
  },
  {
   "cell_type": "code",
   "execution_count": 13,
   "id": "b25b20da",
   "metadata": {},
   "outputs": [
    {
     "name": "stdout",
     "output_type": "stream",
     "text": [
      "2.9386546658193757\n",
      "[-4.31289892e-16 -2.26368191e+00  1.31674654e+00  9.68602517e-01\n",
      "  1.06187949e+00 -9.89726721e-02 -4.83714354e-02 -1.37523706e+00\n",
      "  7.56780012e-01  2.67224293e+00 -1.00326514e+00 -7.78115810e-01\n",
      " -1.76319787e-01 -3.51428977e-01  3.49660079e-01  1.21311392e+00\n",
      " -6.18977621e-01  1.50632962e-01 -3.69064485e-01 -4.52680541e-01\n",
      "  7.81890057e-02  3.21359916e-01 -5.03361202e-02  2.26058430e-02\n",
      "  2.25295204e-01 -5.17531304e-01  1.70893675e-02 -2.08642167e-01\n",
      "  2.22466722e-01  4.57482733e-02  7.45241303e-02  1.05909447e-01\n",
      " -5.63144075e-02 -1.47196214e-01 -5.10888339e-01 -7.05910313e-02\n",
      "  8.22830228e-02  1.44113274e-02  2.76238203e-01 -1.66093129e-01\n",
      " -3.85919218e-02 -1.34352204e-01  1.25638611e-02  1.94776654e-01\n",
      "  1.22519670e-01]\n"
     ]
    }
   ],
   "source": [
    "#evaluate the model - Coefficient and constant\n",
    "print(poly_lr.intercept_)\n",
    "print(poly_lr.coef_)"
   ]
  },
  {
   "cell_type": "code",
   "execution_count": 14,
   "id": "7fc2f30c",
   "metadata": {},
   "outputs": [
    {
     "data": {
      "text/html": [
       "<div>\n",
       "<style scoped>\n",
       "    .dataframe tbody tr th:only-of-type {\n",
       "        vertical-align: middle;\n",
       "    }\n",
       "\n",
       "    .dataframe tbody tr th {\n",
       "        vertical-align: top;\n",
       "    }\n",
       "\n",
       "    .dataframe thead th {\n",
       "        text-align: right;\n",
       "    }\n",
       "</style>\n",
       "<table border=\"1\" class=\"dataframe\">\n",
       "  <thead>\n",
       "    <tr style=\"text-align: right;\">\n",
       "      <th></th>\n",
       "      <th>Actual</th>\n",
       "      <th>Predicted</th>\n",
       "    </tr>\n",
       "  </thead>\n",
       "  <tbody>\n",
       "    <tr>\n",
       "      <th>722</th>\n",
       "      <td>2.781140</td>\n",
       "      <td>3.052438</td>\n",
       "    </tr>\n",
       "    <tr>\n",
       "      <th>77</th>\n",
       "      <td>3.711676</td>\n",
       "      <td>3.074164</td>\n",
       "    </tr>\n",
       "    <tr>\n",
       "      <th>877</th>\n",
       "      <td>1.626946</td>\n",
       "      <td>2.972221</td>\n",
       "    </tr>\n",
       "    <tr>\n",
       "      <th>613</th>\n",
       "      <td>3.165741</td>\n",
       "      <td>2.987321</td>\n",
       "    </tr>\n",
       "    <tr>\n",
       "      <th>903</th>\n",
       "      <td>3.582426</td>\n",
       "      <td>2.806251</td>\n",
       "    </tr>\n",
       "    <tr>\n",
       "      <th>531</th>\n",
       "      <td>2.505018</td>\n",
       "      <td>2.958571</td>\n",
       "    </tr>\n",
       "    <tr>\n",
       "      <th>399</th>\n",
       "      <td>1.273273</td>\n",
       "      <td>2.546153</td>\n",
       "    </tr>\n",
       "    <tr>\n",
       "      <th>452</th>\n",
       "      <td>2.086086</td>\n",
       "      <td>3.146771</td>\n",
       "    </tr>\n",
       "    <tr>\n",
       "      <th>31</th>\n",
       "      <td>2.916150</td>\n",
       "      <td>3.071733</td>\n",
       "    </tr>\n",
       "    <tr>\n",
       "      <th>356</th>\n",
       "      <td>1.165743</td>\n",
       "      <td>2.841175</td>\n",
       "    </tr>\n",
       "  </tbody>\n",
       "</table>\n",
       "</div>"
      ],
      "text/plain": [
       "       Actual  Predicted\n",
       "722  2.781140   3.052438\n",
       "77   3.711676   3.074164\n",
       "877  1.626946   2.972221\n",
       "613  3.165741   2.987321\n",
       "903  3.582426   2.806251\n",
       "531  2.505018   2.958571\n",
       "399  1.273273   2.546153\n",
       "452  2.086086   3.146771\n",
       "31   2.916150   3.071733\n",
       "356  1.165743   2.841175"
      ]
     },
     "execution_count": 14,
     "metadata": {},
     "output_type": "execute_result"
    }
   ],
   "source": [
    "#compare actual output values with predicted values\n",
    "df = pd.DataFrame({'Actual': y_test, 'Predicted': y_pred})\n",
    "df1 = df.head(10)\n",
    "df1"
   ]
  },
  {
   "cell_type": "code",
   "execution_count": 15,
   "id": "2a33c714",
   "metadata": {},
   "outputs": [
    {
     "name": "stdout",
     "output_type": "stream",
     "text": [
      "MAE: 0.7491855365450355\n",
      "MSE: 0.8887028513734748\n",
      "RMSE: 0.942710375127735\n"
     ]
    }
   ],
   "source": [
    "# evaluate the performance of the algorithm (MAE - MSE - RMSE)\n",
    "from sklearn import metrics\n",
    "print('MAE:', metrics.mean_absolute_error(y_test, y_pred))  \n",
    "print('MSE:', metrics.mean_squared_error(y_test, y_pred))  \n",
    "print('RMSE:', np.sqrt(metrics.mean_squared_error(y_test, y_pred)))"
   ]
  },
  {
   "cell_type": "code",
   "execution_count": null,
   "id": "ce0744b3",
   "metadata": {},
   "outputs": [],
   "source": []
  },
  {
   "cell_type": "code",
   "execution_count": null,
   "id": "86e09a86",
   "metadata": {},
   "outputs": [],
   "source": []
  },
  {
   "cell_type": "markdown",
   "id": "1afe2c74",
   "metadata": {},
   "source": [
    "---"
   ]
  },
  {
   "cell_type": "markdown",
   "id": "cb638b18",
   "metadata": {},
   "source": [
    "---"
   ]
  },
  {
   "cell_type": "markdown",
   "id": "f0c86210",
   "metadata": {},
   "source": [
    "1 к 1"
   ]
  },
  {
   "cell_type": "code",
   "execution_count": 16,
   "id": "5db20281",
   "metadata": {},
   "outputs": [
    {
     "data": {
      "text/html": [
       "<div>\n",
       "<style scoped>\n",
       "    .dataframe tbody tr th:only-of-type {\n",
       "        vertical-align: middle;\n",
       "    }\n",
       "\n",
       "    .dataframe tbody tr th {\n",
       "        vertical-align: top;\n",
       "    }\n",
       "\n",
       "    .dataframe thead th {\n",
       "        text-align: right;\n",
       "    }\n",
       "</style>\n",
       "<table border=\"1\" class=\"dataframe\">\n",
       "  <thead>\n",
       "    <tr style=\"text-align: right;\">\n",
       "      <th></th>\n",
       "      <th>Соотношение матрица-наполнитель</th>\n",
       "      <th>Плотность, кг/м3</th>\n",
       "      <th>модуль упругости, ГПа</th>\n",
       "      <th>Количество отвердителя, м.%</th>\n",
       "      <th>Содержание эпоксидных групп,%_2</th>\n",
       "      <th>Температура вспышки, С_2</th>\n",
       "      <th>Поверхностная плотность, г/м2</th>\n",
       "      <th>Модуль упругости при растяжении, ГПа</th>\n",
       "      <th>Прочность при растяжении, МПа</th>\n",
       "      <th>Потребление смолы, г/м2</th>\n",
       "      <th>Угол нашивки, град</th>\n",
       "      <th>Шаг нашивки</th>\n",
       "      <th>Плотность нашивки</th>\n",
       "    </tr>\n",
       "  </thead>\n",
       "  <tbody>\n",
       "    <tr>\n",
       "      <th>0</th>\n",
       "      <td>1.857143</td>\n",
       "      <td>2030.0</td>\n",
       "      <td>-0.003593</td>\n",
       "      <td>50.00</td>\n",
       "      <td>23.750000</td>\n",
       "      <td>284.615385</td>\n",
       "      <td>210.0</td>\n",
       "      <td>70.0</td>\n",
       "      <td>3000.0</td>\n",
       "      <td>220.0</td>\n",
       "      <td>0.0</td>\n",
       "      <td>4.0</td>\n",
       "      <td>60.0</td>\n",
       "    </tr>\n",
       "    <tr>\n",
       "      <th>1</th>\n",
       "      <td>1.857143</td>\n",
       "      <td>2030.0</td>\n",
       "      <td>-0.003593</td>\n",
       "      <td>129.00</td>\n",
       "      <td>21.250000</td>\n",
       "      <td>300.000000</td>\n",
       "      <td>210.0</td>\n",
       "      <td>70.0</td>\n",
       "      <td>3000.0</td>\n",
       "      <td>220.0</td>\n",
       "      <td>0.0</td>\n",
       "      <td>5.0</td>\n",
       "      <td>47.0</td>\n",
       "    </tr>\n",
       "    <tr>\n",
       "      <th>2</th>\n",
       "      <td>2.771331</td>\n",
       "      <td>2030.0</td>\n",
       "      <td>0.039599</td>\n",
       "      <td>111.86</td>\n",
       "      <td>22.267857</td>\n",
       "      <td>284.615385</td>\n",
       "      <td>210.0</td>\n",
       "      <td>70.0</td>\n",
       "      <td>3000.0</td>\n",
       "      <td>220.0</td>\n",
       "      <td>0.0</td>\n",
       "      <td>5.0</td>\n",
       "      <td>57.0</td>\n",
       "    </tr>\n",
       "    <tr>\n",
       "      <th>3</th>\n",
       "      <td>2.767918</td>\n",
       "      <td>2000.0</td>\n",
       "      <td>0.024458</td>\n",
       "      <td>111.86</td>\n",
       "      <td>22.267857</td>\n",
       "      <td>284.615385</td>\n",
       "      <td>210.0</td>\n",
       "      <td>70.0</td>\n",
       "      <td>3000.0</td>\n",
       "      <td>220.0</td>\n",
       "      <td>0.0</td>\n",
       "      <td>5.0</td>\n",
       "      <td>60.0</td>\n",
       "    </tr>\n",
       "    <tr>\n",
       "      <th>4</th>\n",
       "      <td>2.569620</td>\n",
       "      <td>1910.0</td>\n",
       "      <td>0.203120</td>\n",
       "      <td>111.86</td>\n",
       "      <td>22.267857</td>\n",
       "      <td>284.615385</td>\n",
       "      <td>210.0</td>\n",
       "      <td>70.0</td>\n",
       "      <td>3000.0</td>\n",
       "      <td>220.0</td>\n",
       "      <td>0.0</td>\n",
       "      <td>5.0</td>\n",
       "      <td>70.0</td>\n",
       "    </tr>\n",
       "  </tbody>\n",
       "</table>\n",
       "</div>"
      ],
      "text/plain": [
       "   Соотношение матрица-наполнитель  Плотность, кг/м3  модуль упругости, ГПа  \\\n",
       "0                         1.857143            2030.0              -0.003593   \n",
       "1                         1.857143            2030.0              -0.003593   \n",
       "2                         2.771331            2030.0               0.039599   \n",
       "3                         2.767918            2000.0               0.024458   \n",
       "4                         2.569620            1910.0               0.203120   \n",
       "\n",
       "   Количество отвердителя, м.%  Содержание эпоксидных групп,%_2  \\\n",
       "0                        50.00                        23.750000   \n",
       "1                       129.00                        21.250000   \n",
       "2                       111.86                        22.267857   \n",
       "3                       111.86                        22.267857   \n",
       "4                       111.86                        22.267857   \n",
       "\n",
       "   Температура вспышки, С_2  Поверхностная плотность, г/м2  \\\n",
       "0                284.615385                          210.0   \n",
       "1                300.000000                          210.0   \n",
       "2                284.615385                          210.0   \n",
       "3                284.615385                          210.0   \n",
       "4                284.615385                          210.0   \n",
       "\n",
       "   Модуль упругости при растяжении, ГПа  Прочность при растяжении, МПа  \\\n",
       "0                                  70.0                         3000.0   \n",
       "1                                  70.0                         3000.0   \n",
       "2                                  70.0                         3000.0   \n",
       "3                                  70.0                         3000.0   \n",
       "4                                  70.0                         3000.0   \n",
       "\n",
       "   Потребление смолы, г/м2  Угол нашивки, град  Шаг нашивки  Плотность нашивки  \n",
       "0                    220.0                 0.0          4.0               60.0  \n",
       "1                    220.0                 0.0          5.0               47.0  \n",
       "2                    220.0                 0.0          5.0               57.0  \n",
       "3                    220.0                 0.0          5.0               60.0  \n",
       "4                    220.0                 0.0          5.0               70.0  "
      ]
     },
     "execution_count": 16,
     "metadata": {},
     "output_type": "execute_result"
    }
   ],
   "source": [
    "df = pd.read_csv(\"data/after_3s.csv\")\n",
    "df.drop(columns =['Unnamed: 0'], axis = 1, inplace = True)\n",
    "df.head()"
   ]
  },
  {
   "cell_type": "code",
   "execution_count": 17,
   "id": "d453e021",
   "metadata": {},
   "outputs": [
    {
     "data": {
      "text/plain": [
       "Index(['Соотношение матрица-наполнитель', 'Плотность, кг/м3',\n",
       "       'модуль упругости, ГПа', 'Количество отвердителя, м.%',\n",
       "       'Содержание эпоксидных групп,%_2', 'Температура вспышки, С_2',\n",
       "       'Поверхностная плотность, г/м2', 'Модуль упругости при растяжении, ГПа',\n",
       "       'Прочность при растяжении, МПа', 'Потребление смолы, г/м2',\n",
       "       'Угол нашивки, град', 'Шаг нашивки', 'Плотность нашивки'],\n",
       "      dtype='object')"
      ]
     },
     "execution_count": 17,
     "metadata": {},
     "output_type": "execute_result"
    }
   ],
   "source": [
    "df.columns"
   ]
  },
  {
   "cell_type": "markdown",
   "id": "f7e485a1",
   "metadata": {},
   "source": [
    "1к1"
   ]
  },
  {
   "cell_type": "code",
   "execution_count": 18,
   "id": "6a72c0e2",
   "metadata": {},
   "outputs": [],
   "source": [
    "X = df.drop(['Соотношение матрица-наполнитель', 'Угол нашивки, град','Модуль упругости при растяжении, ГПа',\n",
    "             'модуль упругости, ГПа', 'Прочность при растяжении, МПа','Плотность, кг/м3', 'Количество отвердителя, м.%', \n",
    "             'Температура вспышки, С_2', 'Поверхностная плотность, г/м2', \n",
    "             'Потребление смолы, г/м2', 'Шаг нашивки', 'Плотность нашивки'],axis = 1)\n",
    "y = df['Соотношение матрица-наполнитель']"
   ]
  },
  {
   "cell_type": "code",
   "execution_count": 19,
   "id": "18fdcb20",
   "metadata": {},
   "outputs": [
    {
     "data": {
      "text/html": [
       "<div>\n",
       "<style scoped>\n",
       "    .dataframe tbody tr th:only-of-type {\n",
       "        vertical-align: middle;\n",
       "    }\n",
       "\n",
       "    .dataframe tbody tr th {\n",
       "        vertical-align: top;\n",
       "    }\n",
       "\n",
       "    .dataframe thead th {\n",
       "        text-align: right;\n",
       "    }\n",
       "</style>\n",
       "<table border=\"1\" class=\"dataframe\">\n",
       "  <thead>\n",
       "    <tr style=\"text-align: right;\">\n",
       "      <th></th>\n",
       "      <th>Содержание эпоксидных групп,%_2</th>\n",
       "    </tr>\n",
       "  </thead>\n",
       "  <tbody>\n",
       "    <tr>\n",
       "      <th>0</th>\n",
       "      <td>23.750000</td>\n",
       "    </tr>\n",
       "    <tr>\n",
       "      <th>1</th>\n",
       "      <td>21.250000</td>\n",
       "    </tr>\n",
       "    <tr>\n",
       "      <th>2</th>\n",
       "      <td>22.267857</td>\n",
       "    </tr>\n",
       "    <tr>\n",
       "      <th>3</th>\n",
       "      <td>22.267857</td>\n",
       "    </tr>\n",
       "    <tr>\n",
       "      <th>4</th>\n",
       "      <td>22.267857</td>\n",
       "    </tr>\n",
       "    <tr>\n",
       "      <th>...</th>\n",
       "      <td>...</td>\n",
       "    </tr>\n",
       "    <tr>\n",
       "      <th>994</th>\n",
       "      <td>20.123249</td>\n",
       "    </tr>\n",
       "    <tr>\n",
       "      <th>995</th>\n",
       "      <td>19.599769</td>\n",
       "    </tr>\n",
       "    <tr>\n",
       "      <th>996</th>\n",
       "      <td>23.957502</td>\n",
       "    </tr>\n",
       "    <tr>\n",
       "      <th>997</th>\n",
       "      <td>19.246945</td>\n",
       "    </tr>\n",
       "    <tr>\n",
       "      <th>998</th>\n",
       "      <td>27.474763</td>\n",
       "    </tr>\n",
       "  </tbody>\n",
       "</table>\n",
       "<p>999 rows × 1 columns</p>\n",
       "</div>"
      ],
      "text/plain": [
       "     Содержание эпоксидных групп,%_2\n",
       "0                          23.750000\n",
       "1                          21.250000\n",
       "2                          22.267857\n",
       "3                          22.267857\n",
       "4                          22.267857\n",
       "..                               ...\n",
       "994                        20.123249\n",
       "995                        19.599769\n",
       "996                        23.957502\n",
       "997                        19.246945\n",
       "998                        27.474763\n",
       "\n",
       "[999 rows x 1 columns]"
      ]
     },
     "execution_count": 19,
     "metadata": {},
     "output_type": "execute_result"
    }
   ],
   "source": [
    "X"
   ]
  },
  {
   "cell_type": "code",
   "execution_count": 20,
   "id": "b0915932",
   "metadata": {},
   "outputs": [],
   "source": [
    "#splitting Train and Test \n",
    "from sklearn.model_selection import train_test_split\n",
    "#training the simple Linear Regression model on the training set\n",
    "poly = PolynomialFeatures (degree = 2)\n",
    "X_poly = poly.fit_transform(X)\n",
    "X_train,X_test,y_train,y_test = train_test_split(X_poly,y, test_size = 0.20, random_state = 0)"
   ]
  },
  {
   "cell_type": "code",
   "execution_count": 21,
   "id": "aa5abae9",
   "metadata": {},
   "outputs": [
    {
     "name": "stderr",
     "output_type": "stream",
     "text": [
      "C:\\Users\\vagid\\AppData\\Local\\Temp/ipykernel_6264/1104923244.py:4: DeprecationWarning: `np.float` is a deprecated alias for the builtin `float`. To silence this warning, use `float` by itself. Doing this will not modify any behavior and is safe. If you specifically wanted the numpy scalar type, use `np.float64` here.\n",
      "Deprecated in NumPy 1.20; for more details and guidance: https://numpy.org/devdocs/release/1.20.0-notes.html#deprecations\n",
      "  X_train = sc.fit_transform(X_train.astype(np.float))\n",
      "C:\\Users\\vagid\\AppData\\Local\\Temp/ipykernel_6264/1104923244.py:5: DeprecationWarning: `np.float` is a deprecated alias for the builtin `float`. To silence this warning, use `float` by itself. Doing this will not modify any behavior and is safe. If you specifically wanted the numpy scalar type, use `np.float64` here.\n",
      "Deprecated in NumPy 1.20; for more details and guidance: https://numpy.org/devdocs/release/1.20.0-notes.html#deprecations\n",
      "  X_test= sc.transform(X_test.astype(np.float))\n"
     ]
    }
   ],
   "source": [
    "#standard scaler (fit transform on train, fit only on test)\n",
    "from sklearn.preprocessing import StandardScaler\n",
    "sc = StandardScaler()\n",
    "X_train = sc.fit_transform(X_train.astype(np.float))\n",
    "X_test= sc.transform(X_test.astype(np.float))"
   ]
  },
  {
   "cell_type": "code",
   "execution_count": 22,
   "id": "da333050",
   "metadata": {},
   "outputs": [],
   "source": [
    "#fit and predict model\n",
    "poly_lr = LinearRegression().fit(X_train,y_train)\n",
    "y_pred = poly_lr.predict(X_test)"
   ]
  },
  {
   "cell_type": "code",
   "execution_count": 23,
   "id": "17319038",
   "metadata": {},
   "outputs": [
    {
     "name": "stdout",
     "output_type": "stream",
     "text": [
      "Polynomial Regression Model:\n",
      "Train Score 0.00\n",
      "Test Score -0.00\n"
     ]
    }
   ],
   "source": [
    "#checking accuracy of Polynomial Regression Model\n",
    "print('Polynomial Regression Model:')\n",
    "print(\"Train Score {:.2f}\".format(poly_lr.score(X_train,y_train)))\n",
    "print(\"Test Score {:.2f}\".format(poly_lr.score(X_test, y_test)))"
   ]
  },
  {
   "cell_type": "code",
   "execution_count": 24,
   "id": "3f761e93",
   "metadata": {},
   "outputs": [
    {
     "data": {
      "text/plain": [
       "array([[ 0.00000000e+00, -9.84143360e-01, -9.84137001e-01],\n",
       "       [ 0.00000000e+00,  8.22760893e-01,  8.04191168e-01],\n",
       "       [ 0.00000000e+00,  8.31942142e-01,  8.14164034e-01],\n",
       "       [ 0.00000000e+00,  3.98588196e-03, -4.91573164e-02],\n",
       "       [ 0.00000000e+00, -1.49445298e+00, -1.42636571e+00],\n",
       "       [ 0.00000000e+00, -4.56515770e-01, -4.97800413e-01],\n",
       "       [ 0.00000000e+00, -2.33227247e+00, -2.09239297e+00],\n",
       "       [ 0.00000000e+00, -7.31746663e-01, -7.55183632e-01],\n",
       "       [ 0.00000000e+00,  1.46324625e+00,  1.52138549e+00],\n",
       "       [ 0.00000000e+00, -1.51513251e+00, -1.44370289e+00],\n",
       "       [ 0.00000000e+00,  1.13790415e+00,  1.15163004e+00],\n",
       "       [ 0.00000000e+00,  4.27423072e-02, -1.03707459e-02],\n",
       "       [ 0.00000000e+00,  4.97128415e-01,  4.56275631e-01],\n",
       "       [ 0.00000000e+00,  7.35904612e-01,  7.10289279e-01],\n",
       "       [ 0.00000000e+00,  7.33933100e-01,  7.08167148e-01],\n",
       "       [ 0.00000000e+00,  1.54761596e-01,  1.02633150e-01],\n",
       "       [ 0.00000000e+00, -1.65959096e+00, -1.56354544e+00],\n",
       "       [ 0.00000000e+00, -1.94339857e+00, -1.79253330e+00],\n",
       "       [ 0.00000000e+00,  1.17605449e+00,  1.19440619e+00],\n",
       "       [ 0.00000000e+00,  2.08421003e+00,  2.25834335e+00],\n",
       "       [ 0.00000000e+00, -2.79855834e-01, -3.28354200e-01],\n",
       "       [ 0.00000000e+00, -2.67407899e-01, -3.16289479e-01],\n",
       "       [ 0.00000000e+00, -1.04444728e+00, -1.03783771e+00],\n",
       "       [ 0.00000000e+00, -6.59897104e-01, -6.88769730e-01],\n",
       "       [ 0.00000000e+00, -1.16077363e+00, -1.14033465e+00],\n",
       "       [ 0.00000000e+00, -9.29968965e-02, -1.45516011e-01],\n",
       "       [ 0.00000000e+00, -4.10601018e-01, -4.54079532e-01],\n",
       "       [ 0.00000000e+00,  2.92168294e-01,  2.43068763e-01],\n",
       "       [ 0.00000000e+00,  8.07489776e-01,  7.87623200e-01],\n",
       "       [ 0.00000000e+00, -6.27766061e-01, -6.58891975e-01],\n",
       "       [ 0.00000000e+00,  4.57811285e-01,  4.15030480e-01],\n",
       "       [ 0.00000000e+00, -7.02586828e-01, -7.28295982e-01],\n",
       "       [ 0.00000000e+00, -1.58144103e+00, -1.49898771e+00],\n",
       "       [ 0.00000000e+00, -3.92593351e-01, -4.36871130e-01],\n",
       "       [ 0.00000000e+00,  7.44574323e-01,  7.19626240e-01],\n",
       "       [ 0.00000000e+00,  7.50316778e-01,  7.25815052e-01],\n",
       "       [ 0.00000000e+00,  7.38177801e-01,  7.12736648e-01],\n",
       "       [ 0.00000000e+00, -7.40730238e-01, -7.63448983e-01],\n",
       "       [ 0.00000000e+00,  1.11588973e+00,  1.12701670e+00],\n",
       "       [ 0.00000000e+00,  1.72106920e+00,  1.82239392e+00],\n",
       "       [ 0.00000000e+00,  7.83837331e-01,  7.62011066e-01],\n",
       "       [ 0.00000000e+00,  7.15644464e-01,  6.88500987e-01],\n",
       "       [ 0.00000000e+00, -5.50522659e-01, -5.86616576e-01],\n",
       "       [ 0.00000000e+00, -2.73948185e-01, -3.22630473e-01],\n",
       "       [ 0.00000000e+00,  3.64848188e-01,  3.18162127e-01],\n",
       "       [ 0.00000000e+00, -8.65462896e-01, -8.77323180e-01],\n",
       "       [ 0.00000000e+00,  1.18605550e+00,  1.20564543e+00],\n",
       "       [ 0.00000000e+00,  5.70189732e-01,  5.33355988e-01],\n",
       "       [ 0.00000000e+00, -6.92628764e-01, -7.19093168e-01],\n",
       "       [ 0.00000000e+00,  1.00062893e-01,  4.72870612e-02],\n",
       "       [ 0.00000000e+00, -4.97893937e-01, -5.37009540e-01],\n",
       "       [ 0.00000000e+00, -7.38357649e-01, -7.61266912e-01],\n",
       "       [ 0.00000000e+00, -1.47446587e+00, -1.40956586e+00],\n",
       "       [ 0.00000000e+00,  8.13798155e-01,  7.94464293e-01],\n",
       "       [ 0.00000000e+00, -6.31173907e-01, -6.62066036e-01],\n",
       "       [ 0.00000000e+00, -8.46879986e-02, -1.37299732e-01],\n",
       "       [ 0.00000000e+00, -5.85150306e-01, -6.19095518e-01],\n",
       "       [ 0.00000000e+00, -1.06176335e+00, -1.05318627e+00],\n",
       "       [ 0.00000000e+00,  1.50336620e-01,  9.81439809e-02],\n",
       "       [ 0.00000000e+00,  8.21225730e-01,  8.02524515e-01],\n",
       "       [ 0.00000000e+00,  8.26074662e-01,  8.07789621e-01],\n",
       "       [ 0.00000000e+00, -1.42398136e+00, -1.36694283e+00],\n",
       "       [ 0.00000000e+00,  1.33081511e-01,  8.06584328e-02],\n",
       "       [ 0.00000000e+00, -1.10819841e+00, -1.09418791e+00],\n",
       "       [ 0.00000000e+00, -2.91247815e-01, -3.39381044e-01],\n",
       "       [ 0.00000000e+00,  1.08663860e+00,  1.09439200e+00],\n",
       "       [ 0.00000000e+00,  8.34385861e-01,  8.16819963e-01],\n",
       "       [ 0.00000000e+00, -8.46276927e-01, -8.59915028e-01],\n",
       "       [ 0.00000000e+00,  1.33069058e+00,  1.36937636e+00],\n",
       "       [ 0.00000000e+00,  2.22077460e+00,  2.42591489e+00],\n",
       "       [ 0.00000000e+00,  1.14153367e+00,  1.15569298e+00],\n",
       "       [ 0.00000000e+00,  1.29028451e+00,  1.32341178e+00],\n",
       "       [ 0.00000000e+00,  1.29421934e+00,  1.32788028e+00],\n",
       "       [ 0.00000000e+00,  5.28048788e-01,  4.88827669e-01],\n",
       "       [ 0.00000000e+00, -9.60678189e-01, -9.63136791e-01],\n",
       "       [ 0.00000000e+00,  7.91280477e-01,  7.70064492e-01],\n",
       "       [ 0.00000000e+00,  1.06904055e+00,  1.07480816e+00],\n",
       "       [ 0.00000000e+00, -1.03437934e-01, -1.55830261e-01],\n",
       "       [ 0.00000000e+00,  9.53453882e-01,  9.46996517e-01],\n",
       "       [ 0.00000000e+00,  4.40106030e-01,  3.96510648e-01],\n",
       "       [ 0.00000000e+00,  8.51305147e-01,  8.35225910e-01],\n",
       "       [ 0.00000000e+00, -1.07224903e+00, -1.06246503e+00],\n",
       "       [ 0.00000000e+00,  1.17949199e+00,  1.19826809e+00],\n",
       "       [ 0.00000000e+00, -1.68831749e+00, -1.58711258e+00],\n",
       "       [ 0.00000000e+00, -9.01872268e-01, -9.10251214e-01],\n",
       "       [ 0.00000000e+00,  1.49286426e-01,  9.70788581e-02],\n",
       "       [ 0.00000000e+00,  3.34752570e-01,  2.86999028e-01],\n",
       "       [ 0.00000000e+00,  2.15949495e-02, -3.15543398e-02],\n",
       "       [ 0.00000000e+00,  1.29123530e+00,  1.32449137e+00],\n",
       "       [ 0.00000000e+00,  5.65343715e-02,  3.47055744e-03],\n",
       "       [ 0.00000000e+00,  3.18095179e-01,  2.69792187e-01],\n",
       "       [ 0.00000000e+00,  1.81567760e+00,  1.93462104e+00],\n",
       "       [ 0.00000000e+00,  1.25148361e+00,  1.27943650e+00],\n",
       "       [ 0.00000000e+00, -1.23825194e+00, -1.20780409e+00],\n",
       "       [ 0.00000000e+00,  1.03357308e+00,  1.03543849e+00],\n",
       "       [ 0.00000000e+00, -5.47667076e-01, -5.83932499e-01],\n",
       "       [ 0.00000000e+00, -1.71783067e+00, -1.61123374e+00],\n",
       "       [ 0.00000000e+00,  6.65488342e-01,  6.34749453e-01],\n",
       "       [ 0.00000000e+00,  1.35965685e+00,  1.40243418e+00],\n",
       "       [ 0.00000000e+00,  3.65281616e-01,  3.18611632e-01],\n",
       "       [ 0.00000000e+00, -2.16947179e+00, -1.96881348e+00],\n",
       "       [ 0.00000000e+00, -3.57096493e-01, -4.02848870e-01],\n",
       "       [ 0.00000000e+00, -1.13127931e+00, -1.11448283e+00],\n",
       "       [ 0.00000000e+00, -1.22653026e+00, -1.19763761e+00],\n",
       "       [ 0.00000000e+00,  9.61662419e-01,  9.56026391e-01],\n",
       "       [ 0.00000000e+00,  5.86272484e-01,  5.50399621e-01],\n",
       "       [ 0.00000000e+00,  2.15204099e+00,  2.34132759e+00],\n",
       "       [ 0.00000000e+00,  2.58017924e+00,  2.87639420e+00],\n",
       "       [ 0.00000000e+00, -1.48387320e+00, -1.41747833e+00],\n",
       "       [ 0.00000000e+00,  1.66776133e+00,  1.75957764e+00],\n",
       "       [ 0.00000000e+00,  1.01774425e+00,  1.01791129e+00],\n",
       "       [ 0.00000000e+00, -3.06285861e-02, -8.36637556e-02],\n",
       "       [ 0.00000000e+00, -1.22039244e-01, -1.74176986e-01],\n",
       "       [ 0.00000000e+00, -2.88716904e-01, -3.36932446e-01],\n",
       "       [ 0.00000000e+00, -5.53975398e-01, -5.89860786e-01],\n",
       "       [ 0.00000000e+00, -8.44152949e-01, -8.57985457e-01],\n",
       "       [ 0.00000000e+00,  1.00706519e+00,  1.00610145e+00],\n",
       "       [ 0.00000000e+00, -1.17917857e+00, -1.15641977e+00],\n",
       "       [ 0.00000000e+00,  9.80407119e-02,  4.52470419e-02],\n",
       "       [ 0.00000000e+00, -1.55164072e+00, -1.47419947e+00],\n",
       "       [ 0.00000000e+00,  1.76046575e+00,  1.86901162e+00],\n",
       "       [ 0.00000000e+00, -1.59961774e+00, -1.51406097e+00],\n",
       "       [ 0.00000000e+00,  4.66558288e-01,  4.24192206e-01],\n",
       "       [ 0.00000000e+00, -4.39368241e-01, -4.81498428e-01],\n",
       "       [ 0.00000000e+00,  7.52210593e-01,  7.27856840e-01],\n",
       "       [ 0.00000000e+00,  1.93494529e+00,  2.07745514e+00],\n",
       "       [ 0.00000000e+00,  7.14469244e-01,  6.87238463e-01],\n",
       "       [ 0.00000000e+00, -2.49421258e-01, -2.98827473e-01],\n",
       "       [ 0.00000000e+00,  8.85199411e-01,  8.72189906e-01],\n",
       "       [ 0.00000000e+00, -3.56954396e-01, -4.02712407e-01],\n",
       "       [ 0.00000000e+00,  3.84117594e-01,  3.38165559e-01],\n",
       "       [ 0.00000000e+00,  4.95629352e-01,  4.54700044e-01],\n",
       "       [ 0.00000000e+00, -3.54076226e-01, -3.99947888e-01],\n",
       "       [ 0.00000000e+00,  6.35414174e-01,  6.02647649e-01],\n",
       "       [ 0.00000000e+00, -4.10601018e-01, -4.54079532e-01],\n",
       "       [ 0.00000000e+00, -1.21350739e+00, -1.18632546e+00],\n",
       "       [ 0.00000000e+00,  2.84655068e+00,  3.21912269e+00],\n",
       "       [ 0.00000000e+00,  8.91780717e-01,  8.79381421e-01],\n",
       "       [ 0.00000000e+00,  4.07599339e-01,  3.62595132e-01],\n",
       "       [ 0.00000000e+00,  1.02850365e+00,  1.02982224e+00],\n",
       "       [ 0.00000000e+00,  1.81732250e+00,  1.93658068e+00],\n",
       "       [ 0.00000000e+00, -1.79238785e-02, -7.10134895e-02],\n",
       "       [ 0.00000000e+00, -1.65939337e+00, -1.56338303e+00],\n",
       "       [ 0.00000000e+00, -6.65808264e-01, -6.94254403e-01],\n",
       "       [ 0.00000000e+00,  9.45609037e-01,  9.38373418e-01],\n",
       "       [ 0.00000000e+00,  3.81824093e-03, -4.93247411e-02],\n",
       "       [ 0.00000000e+00,  1.34244841e+00,  1.38278426e+00],\n",
       "       [ 0.00000000e+00, -1.44449129e+00, -1.38429161e+00],\n",
       "       [ 0.00000000e+00,  4.40685234e-01,  3.97115972e-01],\n",
       "       [ 0.00000000e+00, -3.75174607e-01, -4.20192722e-01],\n",
       "       [ 0.00000000e+00, -9.49592508e-01, -9.53195282e-01],\n",
       "       [ 0.00000000e+00, -5.50964475e-01, -5.87031779e-01],\n",
       "       [ 0.00000000e+00, -1.13635041e+00, -1.11893424e+00],\n",
       "       [ 0.00000000e+00, -2.99395895e-01, -3.47259502e-01],\n",
       "       [ 0.00000000e+00, -3.86336822e-02, -9.16257395e-02],\n",
       "       [ 0.00000000e+00, -9.35829260e-01, -9.40834390e-01],\n",
       "       [ 0.00000000e+00, -8.66403353e-01, -8.78175486e-01],\n",
       "       [ 0.00000000e+00,  3.12229990e-01,  2.63740552e-01],\n",
       "       [ 0.00000000e+00, -5.50210083e-01, -5.86322815e-01],\n",
       "       [ 0.00000000e+00, -1.45081086e+00, -1.38962814e+00],\n",
       "       [ 0.00000000e+00,  7.30702898e-02,  2.00921589e-02],\n",
       "       [ 0.00000000e+00,  3.54440862e-01,  3.07374769e-01],\n",
       "       [ 0.00000000e+00,  5.23772740e-01,  4.84319919e-01],\n",
       "       [ 0.00000000e+00, -1.56513953e+00, -1.48543963e+00],\n",
       "       [ 0.00000000e+00, -9.65343577e-02, -1.49011814e-01],\n",
       "       [ 0.00000000e+00, -1.74172140e-01, -2.25400421e-01],\n",
       "       [ 0.00000000e+00, -8.62284328e-01, -8.74441849e-01],\n",
       "       [ 0.00000000e+00, -8.03389749e-01, -8.20860416e-01],\n",
       "       [ 0.00000000e+00, -6.11714038e-01, -6.43924551e-01],\n",
       "       [ 0.00000000e+00, -9.02663150e-01, -9.10964911e-01],\n",
       "       [ 0.00000000e+00,  1.10262482e+00,  1.11221067e+00],\n",
       "       [ 0.00000000e+00, -9.58941453e-01, -9.61580169e-01],\n",
       "       [ 0.00000000e+00, -4.49306422e-01, -4.90950365e-01],\n",
       "       [ 0.00000000e+00, -3.69642330e-01, -4.14888832e-01],\n",
       "       [ 0.00000000e+00,  1.28849418e+00,  1.32137918e+00],\n",
       "       [ 0.00000000e+00,  5.80312697e-01,  5.44080554e-01],\n",
       "       [ 0.00000000e+00,  4.38221513e-01,  3.94541390e-01],\n",
       "       [ 0.00000000e+00, -1.55102558e+00, -1.47368680e+00],\n",
       "       [ 0.00000000e+00, -1.62263034e+00, -1.53309408e+00],\n",
       "       [ 0.00000000e+00, -1.13960018e+00, -1.12178545e+00],\n",
       "       [ 0.00000000e+00, -8.64310349e-01, -8.76278535e-01],\n",
       "       [ 0.00000000e+00,  7.59421850e-01,  7.35635037e-01],\n",
       "       [ 0.00000000e+00,  1.88623769e-01,  1.37055449e-01],\n",
       "       [ 0.00000000e+00, -8.78002906e-02, -1.40378191e-01],\n",
       "       [ 0.00000000e+00, -5.22499404e-01, -5.60238920e-01],\n",
       "       [ 0.00000000e+00,  5.20976132e-02, -9.84246107e-04],\n",
       "       [ 0.00000000e+00, -5.06627251e-01, -5.45261800e-01],\n",
       "       [ 0.00000000e+00,  1.65906814e+00,  1.74936250e+00],\n",
       "       [ 0.00000000e+00,  2.24046445e+00,  2.45023880e+00],\n",
       "       [ 0.00000000e+00,  1.96747139e-02, -3.34755120e-02],\n",
       "       [ 0.00000000e+00,  1.41717694e+00,  1.46834347e+00],\n",
       "       [ 0.00000000e+00, -6.99003832e-02, -1.22658803e-01],\n",
       "       [ 0.00000000e+00, -2.30026692e+00, -2.06832049e+00],\n",
       "       [ 0.00000000e+00, -1.02586629e+00, -1.02133251e+00],\n",
       "       [ 0.00000000e+00, -3.15843695e-01, -3.63141541e-01],\n",
       "       [ 0.00000000e+00, -3.73449981e-02, -9.03444557e-02],\n",
       "       [ 0.00000000e+00,  1.72475788e+00,  1.82675172e+00],\n",
       "       [ 0.00000000e+00, -1.51875222e+00, -1.44673289e+00],\n",
       "       [ 0.00000000e+00,  5.75159151e-01,  5.38619375e-01],\n",
       "       [ 0.00000000e+00,  1.05300285e+00,  1.05698941e+00]])"
      ]
     },
     "execution_count": 24,
     "metadata": {},
     "output_type": "execute_result"
    }
   ],
   "source": [
    "X_test"
   ]
  },
  {
   "cell_type": "code",
   "execution_count": 25,
   "id": "9a173cb6",
   "metadata": {},
   "outputs": [
    {
     "data": {
      "text/plain": [
       "722    2.781140\n",
       "77     3.711676\n",
       "877    1.626946\n",
       "613    3.165741\n",
       "903    3.582426\n",
       "         ...   \n",
       "150    2.829594\n",
       "299    4.643415\n",
       "239    3.771195\n",
       "981    3.810614\n",
       "435    2.594686\n",
       "Name: Соотношение матрица-наполнитель, Length: 200, dtype: float64"
      ]
     },
     "execution_count": 25,
     "metadata": {},
     "output_type": "execute_result"
    }
   ],
   "source": [
    "y_test"
   ]
  },
  {
   "cell_type": "code",
   "execution_count": 26,
   "id": "485089df",
   "metadata": {},
   "outputs": [
    {
     "data": {
      "image/png": "[encoded data removed]",
      "text/plain": [
       "<Figure size 432x288 with 1 Axes>"
      ]
     },
     "metadata": {
      "needs_background": "light"
     },
     "output_type": "display_data"
    }
   ],
   "source": [
    "#prediction vs test set\n",
    "#plt.scatter(X_test, y_test,  color='blue')\n",
    "plt.plot(X_test, y_pred, color='red', linewidth=2)\n",
    "plt.show()"
   ]
  },
  {
   "cell_type": "code",
   "execution_count": 27,
   "id": "c947b6ab",
   "metadata": {},
   "outputs": [],
   "source": [
    "#plt.scatter(X_test, y_test,  color='blue')"
   ]
  },
  {
   "cell_type": "code",
   "execution_count": null,
   "id": "f27975e4",
   "metadata": {},
   "outputs": [],
   "source": []
  },
  {
   "cell_type": "markdown",
   "id": "3b79f13b",
   "metadata": {},
   "source": [
    "# МНОЖЕСТВЕННАЯ?"
   ]
  },
  {
   "cell_type": "code",
   "execution_count": 33,
   "id": "3ffc4950",
   "metadata": {},
   "outputs": [],
   "source": [
    "from sklearn.preprocessing import PolynomialFeatures\n",
    "X = df.drop(['Соотношение матрица-наполнитель', 'Угол нашивки, град','Модуль упругости при растяжении, ГПа',\n",
    "             'модуль упругости, ГПа', 'Прочность при растяжении, МПа'],axis = 1)\n",
    "y = df['Соотношение матрица-наполнитель']"
   ]
  },
  {
   "cell_type": "code",
   "execution_count": 34,
   "id": "fd05bf1f",
   "metadata": {},
   "outputs": [],
   "source": [
    "#splitting Train and Test \n",
    "from sklearn.model_selection import train_test_split\n",
    "poly = PolynomialFeatures (degree = 2)\n",
    "X_poly = poly.fit_transform(X)\n",
    "X_train,X_test,y_train,y_test = train_test_split(X_poly,y, test_size = 0.30, random_state = 0)"
   ]
  },
  {
   "cell_type": "code",
   "execution_count": 35,
   "id": "69eb9f6c",
   "metadata": {},
   "outputs": [
    {
     "name": "stderr",
     "output_type": "stream",
     "text": [
      "C:\\Users\\vagid\\AppData\\Local\\Temp/ipykernel_360/1104923244.py:4: DeprecationWarning: `np.float` is a deprecated alias for the builtin `float`. To silence this warning, use `float` by itself. Doing this will not modify any behavior and is safe. If you specifically wanted the numpy scalar type, use `np.float64` here.\n",
      "Deprecated in NumPy 1.20; for more details and guidance: https://numpy.org/devdocs/release/1.20.0-notes.html#deprecations\n",
      "  X_train = sc.fit_transform(X_train.astype(np.float))\n",
      "C:\\Users\\vagid\\AppData\\Local\\Temp/ipykernel_360/1104923244.py:5: DeprecationWarning: `np.float` is a deprecated alias for the builtin `float`. To silence this warning, use `float` by itself. Doing this will not modify any behavior and is safe. If you specifically wanted the numpy scalar type, use `np.float64` here.\n",
      "Deprecated in NumPy 1.20; for more details and guidance: https://numpy.org/devdocs/release/1.20.0-notes.html#deprecations\n",
      "  X_test= sc.transform(X_test.astype(np.float))\n"
     ]
    }
   ],
   "source": [
    "#standard scaler (fit transform on train, fit only on test)\n",
    "from sklearn.preprocessing import StandardScaler\n",
    "sc = StandardScaler()\n",
    "X_train = sc.fit_transform(X_train.astype(np.float))\n",
    "X_test= sc.transform(X_test.astype(np.float))"
   ]
  },
  {
   "cell_type": "code",
   "execution_count": 36,
   "id": "bfb58b32",
   "metadata": {},
   "outputs": [],
   "source": [
    "#fit and predict model\n",
    "poly_lr = LinearRegression().fit(X_train,y_train)\n",
    "y_pred = poly_lr.predict(X_test)"
   ]
  },
  {
   "cell_type": "code",
   "execution_count": 37,
   "id": "5dfc9bf9",
   "metadata": {},
   "outputs": [
    {
     "name": "stdout",
     "output_type": "stream",
     "text": [
      "Polynomial Regression Model:\n",
      "Train Score 0.04\n",
      "Test Score -0.01\n"
     ]
    }
   ],
   "source": [
    "#checking accuracy of Polynomial Regression Model\n",
    "print('Polynomial Regression Model:')\n",
    "print(\"Train Score {:.2f}\".format(poly_lr.score(X_train,y_train)))\n",
    "print(\"Test Score {:.2f}\".format(poly_lr.score(X_test, y_test)))"
   ]
  },
  {
   "cell_type": "code",
   "execution_count": null,
   "id": "d629a801",
   "metadata": {},
   "outputs": [],
   "source": []
  },
  {
   "cell_type": "code",
   "execution_count": null,
   "id": "1d6c95f6",
   "metadata": {},
   "outputs": [],
   "source": []
  },
  {
   "cell_type": "code",
   "execution_count": null,
   "id": "e4292670",
   "metadata": {},
   "outputs": [],
   "source": []
  },
  {
   "cell_type": "code",
   "execution_count": null,
   "id": "48fdac14",
   "metadata": {},
   "outputs": [],
   "source": []
  },
  {
   "cell_type": "code",
   "execution_count": null,
   "id": "c7f95e96",
   "metadata": {},
   "outputs": [],
   "source": []
  },
  {
   "cell_type": "code",
   "execution_count": null,
   "id": "e61c22ef",
   "metadata": {},
   "outputs": [],
   "source": []
  },
  {
   "cell_type": "code",
   "execution_count": 38,
   "id": "e7d9b05f",
   "metadata": {},
   "outputs": [
    {
     "name": "stdout",
     "output_type": "stream",
     "text": [
      "shape: (999, 44)\n",
      "RMSE: 0.8999351332255395\n"
     ]
    }
   ],
   "source": [
    "from sklearn.preprocessing import PolynomialFeatures\n",
    "\n",
    "poly = PolynomialFeatures(2, include_bias=False)\n",
    "poly_df = poly.fit_transform(X) \n",
    "scaled_poly_df = scaler.fit_transform(poly_df) \n",
    "print(f\"shape: {scaled_poly_df.shape}\")\n",
    "\n",
    "\n",
    "linear_regression_model.fit(scaled_poly_df, y)\n",
    "predictions = linear_regression_model.predict(scaled_poly_df) \n",
    "mse = mean_squared_error(y, predictions) \n",
    "print(\"RMSE: {}\".format(np.sqrt(mse)))"
   ]
  },
  {
   "cell_type": "code",
   "execution_count": null,
   "id": "ad8a12d5",
   "metadata": {},
   "outputs": [],
   "source": []
  },
  {
   "cell_type": "code",
   "execution_count": null,
   "id": "37356a59",
   "metadata": {},
   "outputs": [],
   "source": []
  }
 ],
 "metadata": {
  "kernelspec": {
   "display_name": "Python 3 (ipykernel)",
   "language": "python",
   "name": "python3"
  },
  "language_info": {
   "codemirror_mode": {
    "name": "ipython",
    "version": 3
   },
   "file_extension": ".py",
   "mimetype": "text/x-python",
   "name": "python",
   "nbconvert_exporter": "python",
   "pygments_lexer": "ipython3",
   "version": "3.9.7"
  }
 },
 "nbformat": 4,
 "nbformat_minor": 5
}
